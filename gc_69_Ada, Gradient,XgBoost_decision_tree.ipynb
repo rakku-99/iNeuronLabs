{
  "cells": [
    {
      "cell_type": "markdown",
      "metadata": {
        "id": "view-in-github",
        "colab_type": "text"
      },
      "source": [
        "<a href=\"https://colab.research.google.com/github/rakku-99/iNeuronLabs/blob/main/gc_69_Ada%2C%20Gradient%2CXgBoost_decision_tree.ipynb\" target=\"_parent\"><img src=\"https://colab.research.google.com/assets/colab-badge.svg\" alt=\"Open In Colab\"/></a>"
      ]
    },
    {
      "cell_type": "code",
      "execution_count": 1,
      "metadata": {
        "id": "1818e34a"
      },
      "outputs": [],
      "source": [
        "import pandas as pd\n",
        "import numpy as np\n",
        "df=pd.read_csv(\"https://raw.githubusercontent.com/shrikant-temburwar/Wine-Quality-Dataset/master/winequality-red.csv\",sep = ';')"
      ],
      "id": "1818e34a"
    },
    {
      "cell_type": "code",
      "execution_count": 2,
      "metadata": {
        "colab": {
          "base_uri": "https://localhost:8080/",
          "height": 267
        },
        "id": "595798a1",
        "outputId": "cb18dbb1-5a13-452d-902e-7f195a3b9387"
      },
      "outputs": [
        {
          "output_type": "execute_result",
          "data": {
            "text/plain": [
              "   fixed acidity  volatile acidity  citric acid  residual sugar  chlorides  \\\n",
              "0            7.4              0.70         0.00             1.9      0.076   \n",
              "1            7.8              0.88         0.00             2.6      0.098   \n",
              "2            7.8              0.76         0.04             2.3      0.092   \n",
              "3           11.2              0.28         0.56             1.9      0.075   \n",
              "4            7.4              0.70         0.00             1.9      0.076   \n",
              "\n",
              "   free sulfur dioxide  total sulfur dioxide  density    pH  sulphates  \\\n",
              "0                 11.0                  34.0   0.9978  3.51       0.56   \n",
              "1                 25.0                  67.0   0.9968  3.20       0.68   \n",
              "2                 15.0                  54.0   0.9970  3.26       0.65   \n",
              "3                 17.0                  60.0   0.9980  3.16       0.58   \n",
              "4                 11.0                  34.0   0.9978  3.51       0.56   \n",
              "\n",
              "   alcohol  quality  \n",
              "0      9.4        5  \n",
              "1      9.8        5  \n",
              "2      9.8        5  \n",
              "3      9.8        6  \n",
              "4      9.4        5  "
            ],
            "text/html": [
              "\n",
              "  <div id=\"df-3facecf3-fb9f-4e9a-a782-834c53d4342f\">\n",
              "    <div class=\"colab-df-container\">\n",
              "      <div>\n",
              "<style scoped>\n",
              "    .dataframe tbody tr th:only-of-type {\n",
              "        vertical-align: middle;\n",
              "    }\n",
              "\n",
              "    .dataframe tbody tr th {\n",
              "        vertical-align: top;\n",
              "    }\n",
              "\n",
              "    .dataframe thead th {\n",
              "        text-align: right;\n",
              "    }\n",
              "</style>\n",
              "<table border=\"1\" class=\"dataframe\">\n",
              "  <thead>\n",
              "    <tr style=\"text-align: right;\">\n",
              "      <th></th>\n",
              "      <th>fixed acidity</th>\n",
              "      <th>volatile acidity</th>\n",
              "      <th>citric acid</th>\n",
              "      <th>residual sugar</th>\n",
              "      <th>chlorides</th>\n",
              "      <th>free sulfur dioxide</th>\n",
              "      <th>total sulfur dioxide</th>\n",
              "      <th>density</th>\n",
              "      <th>pH</th>\n",
              "      <th>sulphates</th>\n",
              "      <th>alcohol</th>\n",
              "      <th>quality</th>\n",
              "    </tr>\n",
              "  </thead>\n",
              "  <tbody>\n",
              "    <tr>\n",
              "      <th>0</th>\n",
              "      <td>7.4</td>\n",
              "      <td>0.70</td>\n",
              "      <td>0.00</td>\n",
              "      <td>1.9</td>\n",
              "      <td>0.076</td>\n",
              "      <td>11.0</td>\n",
              "      <td>34.0</td>\n",
              "      <td>0.9978</td>\n",
              "      <td>3.51</td>\n",
              "      <td>0.56</td>\n",
              "      <td>9.4</td>\n",
              "      <td>5</td>\n",
              "    </tr>\n",
              "    <tr>\n",
              "      <th>1</th>\n",
              "      <td>7.8</td>\n",
              "      <td>0.88</td>\n",
              "      <td>0.00</td>\n",
              "      <td>2.6</td>\n",
              "      <td>0.098</td>\n",
              "      <td>25.0</td>\n",
              "      <td>67.0</td>\n",
              "      <td>0.9968</td>\n",
              "      <td>3.20</td>\n",
              "      <td>0.68</td>\n",
              "      <td>9.8</td>\n",
              "      <td>5</td>\n",
              "    </tr>\n",
              "    <tr>\n",
              "      <th>2</th>\n",
              "      <td>7.8</td>\n",
              "      <td>0.76</td>\n",
              "      <td>0.04</td>\n",
              "      <td>2.3</td>\n",
              "      <td>0.092</td>\n",
              "      <td>15.0</td>\n",
              "      <td>54.0</td>\n",
              "      <td>0.9970</td>\n",
              "      <td>3.26</td>\n",
              "      <td>0.65</td>\n",
              "      <td>9.8</td>\n",
              "      <td>5</td>\n",
              "    </tr>\n",
              "    <tr>\n",
              "      <th>3</th>\n",
              "      <td>11.2</td>\n",
              "      <td>0.28</td>\n",
              "      <td>0.56</td>\n",
              "      <td>1.9</td>\n",
              "      <td>0.075</td>\n",
              "      <td>17.0</td>\n",
              "      <td>60.0</td>\n",
              "      <td>0.9980</td>\n",
              "      <td>3.16</td>\n",
              "      <td>0.58</td>\n",
              "      <td>9.8</td>\n",
              "      <td>6</td>\n",
              "    </tr>\n",
              "    <tr>\n",
              "      <th>4</th>\n",
              "      <td>7.4</td>\n",
              "      <td>0.70</td>\n",
              "      <td>0.00</td>\n",
              "      <td>1.9</td>\n",
              "      <td>0.076</td>\n",
              "      <td>11.0</td>\n",
              "      <td>34.0</td>\n",
              "      <td>0.9978</td>\n",
              "      <td>3.51</td>\n",
              "      <td>0.56</td>\n",
              "      <td>9.4</td>\n",
              "      <td>5</td>\n",
              "    </tr>\n",
              "  </tbody>\n",
              "</table>\n",
              "</div>\n",
              "      <button class=\"colab-df-convert\" onclick=\"convertToInteractive('df-3facecf3-fb9f-4e9a-a782-834c53d4342f')\"\n",
              "              title=\"Convert this dataframe to an interactive table.\"\n",
              "              style=\"display:none;\">\n",
              "        \n",
              "  <svg xmlns=\"http://www.w3.org/2000/svg\" height=\"24px\"viewBox=\"0 0 24 24\"\n",
              "       width=\"24px\">\n",
              "    <path d=\"M0 0h24v24H0V0z\" fill=\"none\"/>\n",
              "    <path d=\"M18.56 5.44l.94 2.06.94-2.06 2.06-.94-2.06-.94-.94-2.06-.94 2.06-2.06.94zm-11 1L8.5 8.5l.94-2.06 2.06-.94-2.06-.94L8.5 2.5l-.94 2.06-2.06.94zm10 10l.94 2.06.94-2.06 2.06-.94-2.06-.94-.94-2.06-.94 2.06-2.06.94z\"/><path d=\"M17.41 7.96l-1.37-1.37c-.4-.4-.92-.59-1.43-.59-.52 0-1.04.2-1.43.59L10.3 9.45l-7.72 7.72c-.78.78-.78 2.05 0 2.83L4 21.41c.39.39.9.59 1.41.59.51 0 1.02-.2 1.41-.59l7.78-7.78 2.81-2.81c.8-.78.8-2.07 0-2.86zM5.41 20L4 18.59l7.72-7.72 1.47 1.35L5.41 20z\"/>\n",
              "  </svg>\n",
              "      </button>\n",
              "      \n",
              "  <style>\n",
              "    .colab-df-container {\n",
              "      display:flex;\n",
              "      flex-wrap:wrap;\n",
              "      gap: 12px;\n",
              "    }\n",
              "\n",
              "    .colab-df-convert {\n",
              "      background-color: #E8F0FE;\n",
              "      border: none;\n",
              "      border-radius: 50%;\n",
              "      cursor: pointer;\n",
              "      display: none;\n",
              "      fill: #1967D2;\n",
              "      height: 32px;\n",
              "      padding: 0 0 0 0;\n",
              "      width: 32px;\n",
              "    }\n",
              "\n",
              "    .colab-df-convert:hover {\n",
              "      background-color: #E2EBFA;\n",
              "      box-shadow: 0px 1px 2px rgba(60, 64, 67, 0.3), 0px 1px 3px 1px rgba(60, 64, 67, 0.15);\n",
              "      fill: #174EA6;\n",
              "    }\n",
              "\n",
              "    [theme=dark] .colab-df-convert {\n",
              "      background-color: #3B4455;\n",
              "      fill: #D2E3FC;\n",
              "    }\n",
              "\n",
              "    [theme=dark] .colab-df-convert:hover {\n",
              "      background-color: #434B5C;\n",
              "      box-shadow: 0px 1px 3px 1px rgba(0, 0, 0, 0.15);\n",
              "      filter: drop-shadow(0px 1px 2px rgba(0, 0, 0, 0.3));\n",
              "      fill: #FFFFFF;\n",
              "    }\n",
              "  </style>\n",
              "\n",
              "      <script>\n",
              "        const buttonEl =\n",
              "          document.querySelector('#df-3facecf3-fb9f-4e9a-a782-834c53d4342f button.colab-df-convert');\n",
              "        buttonEl.style.display =\n",
              "          google.colab.kernel.accessAllowed ? 'block' : 'none';\n",
              "\n",
              "        async function convertToInteractive(key) {\n",
              "          const element = document.querySelector('#df-3facecf3-fb9f-4e9a-a782-834c53d4342f');\n",
              "          const dataTable =\n",
              "            await google.colab.kernel.invokeFunction('convertToInteractive',\n",
              "                                                     [key], {});\n",
              "          if (!dataTable) return;\n",
              "\n",
              "          const docLinkHtml = 'Like what you see? Visit the ' +\n",
              "            '<a target=\"_blank\" href=https://colab.research.google.com/notebooks/data_table.ipynb>data table notebook</a>'\n",
              "            + ' to learn more about interactive tables.';\n",
              "          element.innerHTML = '';\n",
              "          dataTable['output_type'] = 'display_data';\n",
              "          await google.colab.output.renderOutput(dataTable, element);\n",
              "          const docLink = document.createElement('div');\n",
              "          docLink.innerHTML = docLinkHtml;\n",
              "          element.appendChild(docLink);\n",
              "        }\n",
              "      </script>\n",
              "    </div>\n",
              "  </div>\n",
              "  "
            ]
          },
          "metadata": {},
          "execution_count": 2
        }
      ],
      "source": [
        "df.head()"
      ],
      "id": "595798a1"
    },
    {
      "cell_type": "code",
      "execution_count": 3,
      "metadata": {
        "colab": {
          "base_uri": "https://localhost:8080/"
        },
        "id": "d6db1cf0",
        "outputId": "05e6ef70-f6d2-48be-d53a-49b1d8db0f83"
      },
      "outputs": [
        {
          "output_type": "execute_result",
          "data": {
            "text/plain": [
              "array([5, 6, 7, 4, 8, 3])"
            ]
          },
          "metadata": {},
          "execution_count": 3
        }
      ],
      "source": [
        "df['quality'].unique()"
      ],
      "id": "d6db1cf0"
    },
    {
      "cell_type": "code",
      "execution_count": 4,
      "metadata": {
        "colab": {
          "base_uri": "https://localhost:8080/"
        },
        "id": "f0c32085",
        "outputId": "9f3bc156-1e2f-4951-a3e7-5ed9d21ebbf2"
      },
      "outputs": [
        {
          "output_type": "execute_result",
          "data": {
            "text/plain": [
              "6"
            ]
          },
          "metadata": {},
          "execution_count": 4
        }
      ],
      "source": [
        "len(df['quality'].unique())"
      ],
      "id": "f0c32085"
    },
    {
      "cell_type": "code",
      "execution_count": 5,
      "metadata": {
        "colab": {
          "base_uri": "https://localhost:8080/"
        },
        "id": "4e309a71",
        "outputId": "1f5dd5ab-f437-402c-bca6-c95c831f0918"
      },
      "outputs": [
        {
          "output_type": "execute_result",
          "data": {
            "text/plain": [
              "6"
            ]
          },
          "metadata": {},
          "execution_count": 5
        }
      ],
      "source": [
        "df['quality'].nunique()"
      ],
      "id": "4e309a71"
    },
    {
      "cell_type": "code",
      "execution_count": 6,
      "metadata": {
        "colab": {
          "base_uri": "https://localhost:8080/"
        },
        "id": "dc8ba281",
        "outputId": "b0ffa7bd-906b-4c96-f5cd-9b76512a3c76"
      },
      "outputs": [
        {
          "output_type": "execute_result",
          "data": {
            "text/plain": [
              "5    681\n",
              "6    638\n",
              "7    199\n",
              "4     53\n",
              "8     18\n",
              "3     10\n",
              "Name: quality, dtype: int64"
            ]
          },
          "metadata": {},
          "execution_count": 6
        }
      ],
      "source": [
        "df['quality'].value_counts()"
      ],
      "id": "dc8ba281"
    },
    {
      "cell_type": "code",
      "execution_count": 7,
      "metadata": {
        "colab": {
          "base_uri": "https://localhost:8080/",
          "height": 426
        },
        "id": "f1ec3758",
        "outputId": "0496e175-4354-4805-bb71-590d23a2db21"
      },
      "outputs": [
        {
          "output_type": "execute_result",
          "data": {
            "text/plain": [
              "                       count       mean        std      min      25%  \\\n",
              "fixed acidity         1599.0   8.319637   1.741096  4.60000   7.1000   \n",
              "volatile acidity      1599.0   0.527821   0.179060  0.12000   0.3900   \n",
              "citric acid           1599.0   0.270976   0.194801  0.00000   0.0900   \n",
              "residual sugar        1599.0   2.538806   1.409928  0.90000   1.9000   \n",
              "chlorides             1599.0   0.087467   0.047065  0.01200   0.0700   \n",
              "free sulfur dioxide   1599.0  15.874922  10.460157  1.00000   7.0000   \n",
              "total sulfur dioxide  1599.0  46.467792  32.895324  6.00000  22.0000   \n",
              "density               1599.0   0.996747   0.001887  0.99007   0.9956   \n",
              "pH                    1599.0   3.311113   0.154386  2.74000   3.2100   \n",
              "sulphates             1599.0   0.658149   0.169507  0.33000   0.5500   \n",
              "alcohol               1599.0  10.422983   1.065668  8.40000   9.5000   \n",
              "quality               1599.0   5.636023   0.807569  3.00000   5.0000   \n",
              "\n",
              "                           50%        75%        max  \n",
              "fixed acidity          7.90000   9.200000   15.90000  \n",
              "volatile acidity       0.52000   0.640000    1.58000  \n",
              "citric acid            0.26000   0.420000    1.00000  \n",
              "residual sugar         2.20000   2.600000   15.50000  \n",
              "chlorides              0.07900   0.090000    0.61100  \n",
              "free sulfur dioxide   14.00000  21.000000   72.00000  \n",
              "total sulfur dioxide  38.00000  62.000000  289.00000  \n",
              "density                0.99675   0.997835    1.00369  \n",
              "pH                     3.31000   3.400000    4.01000  \n",
              "sulphates              0.62000   0.730000    2.00000  \n",
              "alcohol               10.20000  11.100000   14.90000  \n",
              "quality                6.00000   6.000000    8.00000  "
            ],
            "text/html": [
              "\n",
              "  <div id=\"df-7bcb246c-f879-4495-907d-953f20863f8c\">\n",
              "    <div class=\"colab-df-container\">\n",
              "      <div>\n",
              "<style scoped>\n",
              "    .dataframe tbody tr th:only-of-type {\n",
              "        vertical-align: middle;\n",
              "    }\n",
              "\n",
              "    .dataframe tbody tr th {\n",
              "        vertical-align: top;\n",
              "    }\n",
              "\n",
              "    .dataframe thead th {\n",
              "        text-align: right;\n",
              "    }\n",
              "</style>\n",
              "<table border=\"1\" class=\"dataframe\">\n",
              "  <thead>\n",
              "    <tr style=\"text-align: right;\">\n",
              "      <th></th>\n",
              "      <th>count</th>\n",
              "      <th>mean</th>\n",
              "      <th>std</th>\n",
              "      <th>min</th>\n",
              "      <th>25%</th>\n",
              "      <th>50%</th>\n",
              "      <th>75%</th>\n",
              "      <th>max</th>\n",
              "    </tr>\n",
              "  </thead>\n",
              "  <tbody>\n",
              "    <tr>\n",
              "      <th>fixed acidity</th>\n",
              "      <td>1599.0</td>\n",
              "      <td>8.319637</td>\n",
              "      <td>1.741096</td>\n",
              "      <td>4.60000</td>\n",
              "      <td>7.1000</td>\n",
              "      <td>7.90000</td>\n",
              "      <td>9.200000</td>\n",
              "      <td>15.90000</td>\n",
              "    </tr>\n",
              "    <tr>\n",
              "      <th>volatile acidity</th>\n",
              "      <td>1599.0</td>\n",
              "      <td>0.527821</td>\n",
              "      <td>0.179060</td>\n",
              "      <td>0.12000</td>\n",
              "      <td>0.3900</td>\n",
              "      <td>0.52000</td>\n",
              "      <td>0.640000</td>\n",
              "      <td>1.58000</td>\n",
              "    </tr>\n",
              "    <tr>\n",
              "      <th>citric acid</th>\n",
              "      <td>1599.0</td>\n",
              "      <td>0.270976</td>\n",
              "      <td>0.194801</td>\n",
              "      <td>0.00000</td>\n",
              "      <td>0.0900</td>\n",
              "      <td>0.26000</td>\n",
              "      <td>0.420000</td>\n",
              "      <td>1.00000</td>\n",
              "    </tr>\n",
              "    <tr>\n",
              "      <th>residual sugar</th>\n",
              "      <td>1599.0</td>\n",
              "      <td>2.538806</td>\n",
              "      <td>1.409928</td>\n",
              "      <td>0.90000</td>\n",
              "      <td>1.9000</td>\n",
              "      <td>2.20000</td>\n",
              "      <td>2.600000</td>\n",
              "      <td>15.50000</td>\n",
              "    </tr>\n",
              "    <tr>\n",
              "      <th>chlorides</th>\n",
              "      <td>1599.0</td>\n",
              "      <td>0.087467</td>\n",
              "      <td>0.047065</td>\n",
              "      <td>0.01200</td>\n",
              "      <td>0.0700</td>\n",
              "      <td>0.07900</td>\n",
              "      <td>0.090000</td>\n",
              "      <td>0.61100</td>\n",
              "    </tr>\n",
              "    <tr>\n",
              "      <th>free sulfur dioxide</th>\n",
              "      <td>1599.0</td>\n",
              "      <td>15.874922</td>\n",
              "      <td>10.460157</td>\n",
              "      <td>1.00000</td>\n",
              "      <td>7.0000</td>\n",
              "      <td>14.00000</td>\n",
              "      <td>21.000000</td>\n",
              "      <td>72.00000</td>\n",
              "    </tr>\n",
              "    <tr>\n",
              "      <th>total sulfur dioxide</th>\n",
              "      <td>1599.0</td>\n",
              "      <td>46.467792</td>\n",
              "      <td>32.895324</td>\n",
              "      <td>6.00000</td>\n",
              "      <td>22.0000</td>\n",
              "      <td>38.00000</td>\n",
              "      <td>62.000000</td>\n",
              "      <td>289.00000</td>\n",
              "    </tr>\n",
              "    <tr>\n",
              "      <th>density</th>\n",
              "      <td>1599.0</td>\n",
              "      <td>0.996747</td>\n",
              "      <td>0.001887</td>\n",
              "      <td>0.99007</td>\n",
              "      <td>0.9956</td>\n",
              "      <td>0.99675</td>\n",
              "      <td>0.997835</td>\n",
              "      <td>1.00369</td>\n",
              "    </tr>\n",
              "    <tr>\n",
              "      <th>pH</th>\n",
              "      <td>1599.0</td>\n",
              "      <td>3.311113</td>\n",
              "      <td>0.154386</td>\n",
              "      <td>2.74000</td>\n",
              "      <td>3.2100</td>\n",
              "      <td>3.31000</td>\n",
              "      <td>3.400000</td>\n",
              "      <td>4.01000</td>\n",
              "    </tr>\n",
              "    <tr>\n",
              "      <th>sulphates</th>\n",
              "      <td>1599.0</td>\n",
              "      <td>0.658149</td>\n",
              "      <td>0.169507</td>\n",
              "      <td>0.33000</td>\n",
              "      <td>0.5500</td>\n",
              "      <td>0.62000</td>\n",
              "      <td>0.730000</td>\n",
              "      <td>2.00000</td>\n",
              "    </tr>\n",
              "    <tr>\n",
              "      <th>alcohol</th>\n",
              "      <td>1599.0</td>\n",
              "      <td>10.422983</td>\n",
              "      <td>1.065668</td>\n",
              "      <td>8.40000</td>\n",
              "      <td>9.5000</td>\n",
              "      <td>10.20000</td>\n",
              "      <td>11.100000</td>\n",
              "      <td>14.90000</td>\n",
              "    </tr>\n",
              "    <tr>\n",
              "      <th>quality</th>\n",
              "      <td>1599.0</td>\n",
              "      <td>5.636023</td>\n",
              "      <td>0.807569</td>\n",
              "      <td>3.00000</td>\n",
              "      <td>5.0000</td>\n",
              "      <td>6.00000</td>\n",
              "      <td>6.000000</td>\n",
              "      <td>8.00000</td>\n",
              "    </tr>\n",
              "  </tbody>\n",
              "</table>\n",
              "</div>\n",
              "      <button class=\"colab-df-convert\" onclick=\"convertToInteractive('df-7bcb246c-f879-4495-907d-953f20863f8c')\"\n",
              "              title=\"Convert this dataframe to an interactive table.\"\n",
              "              style=\"display:none;\">\n",
              "        \n",
              "  <svg xmlns=\"http://www.w3.org/2000/svg\" height=\"24px\"viewBox=\"0 0 24 24\"\n",
              "       width=\"24px\">\n",
              "    <path d=\"M0 0h24v24H0V0z\" fill=\"none\"/>\n",
              "    <path d=\"M18.56 5.44l.94 2.06.94-2.06 2.06-.94-2.06-.94-.94-2.06-.94 2.06-2.06.94zm-11 1L8.5 8.5l.94-2.06 2.06-.94-2.06-.94L8.5 2.5l-.94 2.06-2.06.94zm10 10l.94 2.06.94-2.06 2.06-.94-2.06-.94-.94-2.06-.94 2.06-2.06.94z\"/><path d=\"M17.41 7.96l-1.37-1.37c-.4-.4-.92-.59-1.43-.59-.52 0-1.04.2-1.43.59L10.3 9.45l-7.72 7.72c-.78.78-.78 2.05 0 2.83L4 21.41c.39.39.9.59 1.41.59.51 0 1.02-.2 1.41-.59l7.78-7.78 2.81-2.81c.8-.78.8-2.07 0-2.86zM5.41 20L4 18.59l7.72-7.72 1.47 1.35L5.41 20z\"/>\n",
              "  </svg>\n",
              "      </button>\n",
              "      \n",
              "  <style>\n",
              "    .colab-df-container {\n",
              "      display:flex;\n",
              "      flex-wrap:wrap;\n",
              "      gap: 12px;\n",
              "    }\n",
              "\n",
              "    .colab-df-convert {\n",
              "      background-color: #E8F0FE;\n",
              "      border: none;\n",
              "      border-radius: 50%;\n",
              "      cursor: pointer;\n",
              "      display: none;\n",
              "      fill: #1967D2;\n",
              "      height: 32px;\n",
              "      padding: 0 0 0 0;\n",
              "      width: 32px;\n",
              "    }\n",
              "\n",
              "    .colab-df-convert:hover {\n",
              "      background-color: #E2EBFA;\n",
              "      box-shadow: 0px 1px 2px rgba(60, 64, 67, 0.3), 0px 1px 3px 1px rgba(60, 64, 67, 0.15);\n",
              "      fill: #174EA6;\n",
              "    }\n",
              "\n",
              "    [theme=dark] .colab-df-convert {\n",
              "      background-color: #3B4455;\n",
              "      fill: #D2E3FC;\n",
              "    }\n",
              "\n",
              "    [theme=dark] .colab-df-convert:hover {\n",
              "      background-color: #434B5C;\n",
              "      box-shadow: 0px 1px 3px 1px rgba(0, 0, 0, 0.15);\n",
              "      filter: drop-shadow(0px 1px 2px rgba(0, 0, 0, 0.3));\n",
              "      fill: #FFFFFF;\n",
              "    }\n",
              "  </style>\n",
              "\n",
              "      <script>\n",
              "        const buttonEl =\n",
              "          document.querySelector('#df-7bcb246c-f879-4495-907d-953f20863f8c button.colab-df-convert');\n",
              "        buttonEl.style.display =\n",
              "          google.colab.kernel.accessAllowed ? 'block' : 'none';\n",
              "\n",
              "        async function convertToInteractive(key) {\n",
              "          const element = document.querySelector('#df-7bcb246c-f879-4495-907d-953f20863f8c');\n",
              "          const dataTable =\n",
              "            await google.colab.kernel.invokeFunction('convertToInteractive',\n",
              "                                                     [key], {});\n",
              "          if (!dataTable) return;\n",
              "\n",
              "          const docLinkHtml = 'Like what you see? Visit the ' +\n",
              "            '<a target=\"_blank\" href=https://colab.research.google.com/notebooks/data_table.ipynb>data table notebook</a>'\n",
              "            + ' to learn more about interactive tables.';\n",
              "          element.innerHTML = '';\n",
              "          dataTable['output_type'] = 'display_data';\n",
              "          await google.colab.output.renderOutput(dataTable, element);\n",
              "          const docLink = document.createElement('div');\n",
              "          docLink.innerHTML = docLinkHtml;\n",
              "          element.appendChild(docLink);\n",
              "        }\n",
              "      </script>\n",
              "    </div>\n",
              "  </div>\n",
              "  "
            ]
          },
          "metadata": {},
          "execution_count": 7
        }
      ],
      "source": [
        "df.describe().T"
      ],
      "id": "f1ec3758"
    },
    {
      "cell_type": "code",
      "execution_count": 8,
      "metadata": {
        "colab": {
          "base_uri": "https://localhost:8080/"
        },
        "id": "e7760433",
        "outputId": "d440db9b-ebd5-4d62-f66b-143808f531b0"
      },
      "outputs": [
        {
          "output_type": "execute_result",
          "data": {
            "text/plain": [
              "240"
            ]
          },
          "metadata": {},
          "execution_count": 8
        }
      ],
      "source": [
        "df.duplicated().sum()\n"
      ],
      "id": "e7760433"
    },
    {
      "cell_type": "code",
      "execution_count": 9,
      "metadata": {
        "id": "9de73287"
      },
      "outputs": [],
      "source": [
        "df=df.drop_duplicates()"
      ],
      "id": "9de73287"
    },
    {
      "cell_type": "code",
      "execution_count": 10,
      "metadata": {
        "colab": {
          "base_uri": "https://localhost:8080/"
        },
        "id": "27118ac9",
        "outputId": "46f37840-8791-4d2b-bc18-183d5fb37a01"
      },
      "outputs": [
        {
          "output_type": "execute_result",
          "data": {
            "text/plain": [
              "0"
            ]
          },
          "metadata": {},
          "execution_count": 10
        }
      ],
      "source": [
        "df.duplicated().sum()"
      ],
      "id": "27118ac9"
    },
    {
      "cell_type": "code",
      "execution_count": 11,
      "metadata": {
        "id": "e109f0bd"
      },
      "outputs": [],
      "source": [
        "demo_df=pd.DataFrame([1,2,3,3,23,2,1,2,123,333])"
      ],
      "id": "e109f0bd"
    },
    {
      "cell_type": "code",
      "execution_count": 12,
      "metadata": {
        "colab": {
          "base_uri": "https://localhost:8080/",
          "height": 363
        },
        "id": "b32e8b80",
        "outputId": "88deee30-424f-476c-8cb5-86e0e84da6e6"
      },
      "outputs": [
        {
          "output_type": "execute_result",
          "data": {
            "text/plain": [
              "     0\n",
              "0    1\n",
              "1    2\n",
              "2    3\n",
              "3    3\n",
              "4   23\n",
              "5    2\n",
              "6    1\n",
              "7    2\n",
              "8  123\n",
              "9  333"
            ],
            "text/html": [
              "\n",
              "  <div id=\"df-4267786e-84bb-41c7-bd8f-a32827e7a07f\">\n",
              "    <div class=\"colab-df-container\">\n",
              "      <div>\n",
              "<style scoped>\n",
              "    .dataframe tbody tr th:only-of-type {\n",
              "        vertical-align: middle;\n",
              "    }\n",
              "\n",
              "    .dataframe tbody tr th {\n",
              "        vertical-align: top;\n",
              "    }\n",
              "\n",
              "    .dataframe thead th {\n",
              "        text-align: right;\n",
              "    }\n",
              "</style>\n",
              "<table border=\"1\" class=\"dataframe\">\n",
              "  <thead>\n",
              "    <tr style=\"text-align: right;\">\n",
              "      <th></th>\n",
              "      <th>0</th>\n",
              "    </tr>\n",
              "  </thead>\n",
              "  <tbody>\n",
              "    <tr>\n",
              "      <th>0</th>\n",
              "      <td>1</td>\n",
              "    </tr>\n",
              "    <tr>\n",
              "      <th>1</th>\n",
              "      <td>2</td>\n",
              "    </tr>\n",
              "    <tr>\n",
              "      <th>2</th>\n",
              "      <td>3</td>\n",
              "    </tr>\n",
              "    <tr>\n",
              "      <th>3</th>\n",
              "      <td>3</td>\n",
              "    </tr>\n",
              "    <tr>\n",
              "      <th>4</th>\n",
              "      <td>23</td>\n",
              "    </tr>\n",
              "    <tr>\n",
              "      <th>5</th>\n",
              "      <td>2</td>\n",
              "    </tr>\n",
              "    <tr>\n",
              "      <th>6</th>\n",
              "      <td>1</td>\n",
              "    </tr>\n",
              "    <tr>\n",
              "      <th>7</th>\n",
              "      <td>2</td>\n",
              "    </tr>\n",
              "    <tr>\n",
              "      <th>8</th>\n",
              "      <td>123</td>\n",
              "    </tr>\n",
              "    <tr>\n",
              "      <th>9</th>\n",
              "      <td>333</td>\n",
              "    </tr>\n",
              "  </tbody>\n",
              "</table>\n",
              "</div>\n",
              "      <button class=\"colab-df-convert\" onclick=\"convertToInteractive('df-4267786e-84bb-41c7-bd8f-a32827e7a07f')\"\n",
              "              title=\"Convert this dataframe to an interactive table.\"\n",
              "              style=\"display:none;\">\n",
              "        \n",
              "  <svg xmlns=\"http://www.w3.org/2000/svg\" height=\"24px\"viewBox=\"0 0 24 24\"\n",
              "       width=\"24px\">\n",
              "    <path d=\"M0 0h24v24H0V0z\" fill=\"none\"/>\n",
              "    <path d=\"M18.56 5.44l.94 2.06.94-2.06 2.06-.94-2.06-.94-.94-2.06-.94 2.06-2.06.94zm-11 1L8.5 8.5l.94-2.06 2.06-.94-2.06-.94L8.5 2.5l-.94 2.06-2.06.94zm10 10l.94 2.06.94-2.06 2.06-.94-2.06-.94-.94-2.06-.94 2.06-2.06.94z\"/><path d=\"M17.41 7.96l-1.37-1.37c-.4-.4-.92-.59-1.43-.59-.52 0-1.04.2-1.43.59L10.3 9.45l-7.72 7.72c-.78.78-.78 2.05 0 2.83L4 21.41c.39.39.9.59 1.41.59.51 0 1.02-.2 1.41-.59l7.78-7.78 2.81-2.81c.8-.78.8-2.07 0-2.86zM5.41 20L4 18.59l7.72-7.72 1.47 1.35L5.41 20z\"/>\n",
              "  </svg>\n",
              "      </button>\n",
              "      \n",
              "  <style>\n",
              "    .colab-df-container {\n",
              "      display:flex;\n",
              "      flex-wrap:wrap;\n",
              "      gap: 12px;\n",
              "    }\n",
              "\n",
              "    .colab-df-convert {\n",
              "      background-color: #E8F0FE;\n",
              "      border: none;\n",
              "      border-radius: 50%;\n",
              "      cursor: pointer;\n",
              "      display: none;\n",
              "      fill: #1967D2;\n",
              "      height: 32px;\n",
              "      padding: 0 0 0 0;\n",
              "      width: 32px;\n",
              "    }\n",
              "\n",
              "    .colab-df-convert:hover {\n",
              "      background-color: #E2EBFA;\n",
              "      box-shadow: 0px 1px 2px rgba(60, 64, 67, 0.3), 0px 1px 3px 1px rgba(60, 64, 67, 0.15);\n",
              "      fill: #174EA6;\n",
              "    }\n",
              "\n",
              "    [theme=dark] .colab-df-convert {\n",
              "      background-color: #3B4455;\n",
              "      fill: #D2E3FC;\n",
              "    }\n",
              "\n",
              "    [theme=dark] .colab-df-convert:hover {\n",
              "      background-color: #434B5C;\n",
              "      box-shadow: 0px 1px 3px 1px rgba(0, 0, 0, 0.15);\n",
              "      filter: drop-shadow(0px 1px 2px rgba(0, 0, 0, 0.3));\n",
              "      fill: #FFFFFF;\n",
              "    }\n",
              "  </style>\n",
              "\n",
              "      <script>\n",
              "        const buttonEl =\n",
              "          document.querySelector('#df-4267786e-84bb-41c7-bd8f-a32827e7a07f button.colab-df-convert');\n",
              "        buttonEl.style.display =\n",
              "          google.colab.kernel.accessAllowed ? 'block' : 'none';\n",
              "\n",
              "        async function convertToInteractive(key) {\n",
              "          const element = document.querySelector('#df-4267786e-84bb-41c7-bd8f-a32827e7a07f');\n",
              "          const dataTable =\n",
              "            await google.colab.kernel.invokeFunction('convertToInteractive',\n",
              "                                                     [key], {});\n",
              "          if (!dataTable) return;\n",
              "\n",
              "          const docLinkHtml = 'Like what you see? Visit the ' +\n",
              "            '<a target=\"_blank\" href=https://colab.research.google.com/notebooks/data_table.ipynb>data table notebook</a>'\n",
              "            + ' to learn more about interactive tables.';\n",
              "          element.innerHTML = '';\n",
              "          dataTable['output_type'] = 'display_data';\n",
              "          await google.colab.output.renderOutput(dataTable, element);\n",
              "          const docLink = document.createElement('div');\n",
              "          docLink.innerHTML = docLinkHtml;\n",
              "          element.appendChild(docLink);\n",
              "        }\n",
              "      </script>\n",
              "    </div>\n",
              "  </div>\n",
              "  "
            ]
          },
          "metadata": {},
          "execution_count": 12
        }
      ],
      "source": [
        "demo_df"
      ],
      "id": "b32e8b80"
    },
    {
      "cell_type": "code",
      "execution_count": 13,
      "metadata": {
        "colab": {
          "base_uri": "https://localhost:8080/"
        },
        "id": "6ccaa07c",
        "outputId": "8092607b-74bf-4856-bbbd-bfb1c55ed6c6"
      },
      "outputs": [
        {
          "output_type": "execute_result",
          "data": {
            "text/plain": [
              "4"
            ]
          },
          "metadata": {},
          "execution_count": 13
        }
      ],
      "source": [
        "demo_df.duplicated().sum()"
      ],
      "id": "6ccaa07c"
    },
    {
      "cell_type": "code",
      "execution_count": 14,
      "metadata": {
        "id": "755d0896"
      },
      "outputs": [],
      "source": [
        "X=df.drop(\"quality\",axis=1)"
      ],
      "id": "755d0896"
    },
    {
      "cell_type": "code",
      "execution_count": 15,
      "metadata": {
        "id": "74bbbc84"
      },
      "outputs": [],
      "source": [
        "y=df['quality']"
      ],
      "id": "74bbbc84"
    },
    {
      "cell_type": "code",
      "execution_count": 22,
      "metadata": {
        "id": "94345f61"
      },
      "outputs": [],
      "source": [
        "from sklearn.model_selection import train_test_split,GridSearchCV"
      ],
      "id": "94345f61"
    },
    {
      "cell_type": "code",
      "execution_count": 23,
      "metadata": {
        "id": "c9348502"
      },
      "outputs": [],
      "source": [
        "X_train,X_test,y_train,y_test=train_test_split(X,y,test_size=0.33,random_state=10)"
      ],
      "id": "c9348502"
    },
    {
      "cell_type": "code",
      "execution_count": 18,
      "metadata": {
        "colab": {
          "base_uri": "https://localhost:8080/",
          "height": 53
        },
        "id": "e0fa3bef",
        "outputId": "27078612-3796-43ae-c269-d3334adbf153"
      },
      "outputs": [
        {
          "output_type": "execute_result",
          "data": {
            "text/plain": [
              "'from sklearn.preprocessing import StandardScaler\\nfrom sklearn.preprocessing import StandardScaler\\nsclr = StandardScaler()\\nscr.fit()\\nscr.transform()'"
            ],
            "application/vnd.google.colaboratory.intrinsic+json": {
              "type": "string"
            }
          },
          "metadata": {},
          "execution_count": 18
        }
      ],
      "source": [
        "'''from sklearn.preprocessing import StandardScaler\n",
        "from sklearn.preprocessing import StandardScaler\n",
        "sclr = StandardScaler()\n",
        "scr.fit()\n",
        "scr.transform()'''\n"
      ],
      "id": "e0fa3bef"
    },
    {
      "cell_type": "code",
      "execution_count": 19,
      "metadata": {
        "id": "524d4bfd"
      },
      "outputs": [],
      "source": [
        "from sklearn.tree import DecisionTreeClassifier\n",
        "model=DecisionTreeClassifier()"
      ],
      "id": "524d4bfd"
    },
    {
      "cell_type": "code",
      "execution_count": 20,
      "metadata": {
        "colab": {
          "base_uri": "https://localhost:8080/"
        },
        "id": "0848587c",
        "outputId": "250a7176-3327-4163-d33a-6efc7ac3af6c"
      },
      "outputs": [
        {
          "output_type": "execute_result",
          "data": {
            "text/plain": [
              "DecisionTreeClassifier()"
            ]
          },
          "metadata": {},
          "execution_count": 20
        }
      ],
      "source": [
        "model.fit(X_train,y_train)"
      ],
      "id": "0848587c"
    },
    {
      "cell_type": "code",
      "execution_count": 21,
      "metadata": {
        "colab": {
          "base_uri": "https://localhost:8080/"
        },
        "id": "c3e574bf",
        "outputId": "51ab22b1-179a-4ddc-e5b5-fb74fe503063"
      },
      "outputs": [
        {
          "output_type": "execute_result",
          "data": {
            "text/plain": [
              "1.0"
            ]
          },
          "metadata": {},
          "execution_count": 21
        }
      ],
      "source": [
        "model.score(X_train,y_train)"
      ],
      "id": "c3e574bf"
    },
    {
      "cell_type": "code",
      "execution_count": null,
      "metadata": {
        "id": "503511e0"
      },
      "outputs": [],
      "source": [
        "from sklearn import tree\n",
        "import matplotlib.pyplot as plt\n",
        "fig=plt.figure(figsize=(25,15))\n",
        "tree.plot_tree(model,filled=True)"
      ],
      "id": "503511e0"
    },
    {
      "cell_type": "code",
      "execution_count": 23,
      "metadata": {
        "id": "70ee2949"
      },
      "outputs": [],
      "source": [
        "fig.savefig(\"decistion_tree_classifier.png\")"
      ],
      "id": "70ee2949"
    },
    {
      "cell_type": "code",
      "execution_count": 24,
      "metadata": {
        "id": "b382c551"
      },
      "outputs": [],
      "source": [
        "y_predict=model.predict(X_test)"
      ],
      "id": "b382c551"
    },
    {
      "cell_type": "code",
      "execution_count": 25,
      "metadata": {
        "id": "941817cf"
      },
      "outputs": [],
      "source": [
        "from sklearn.metrics import accuracy_score"
      ],
      "id": "941817cf"
    },
    {
      "cell_type": "code",
      "execution_count": 26,
      "metadata": {
        "colab": {
          "base_uri": "https://localhost:8080/"
        },
        "id": "a4f79680",
        "outputId": "5dc6f0a0-212b-4ed6-c9e9-17c58b480397"
      },
      "outputs": [
        {
          "output_type": "execute_result",
          "data": {
            "text/plain": [
              "0.5233853006681515"
            ]
          },
          "metadata": {},
          "execution_count": 26
        }
      ],
      "source": [
        "accuracy_score(y_test,y_predict)"
      ],
      "id": "a4f79680"
    },
    {
      "cell_type": "code",
      "execution_count": 27,
      "metadata": {
        "id": "22ac9d15"
      },
      "outputs": [],
      "source": [
        "grid_param = {\n",
        "    'criterion': ['gini', 'entropy'],\n",
        "    'max_depth' : range(2,10,1),\n",
        "    'min_samples_leaf' : range(1,8,1),\n",
        "    'min_samples_split': range(2,8,1),\n",
        "    'splitter' : ['best', 'random']\n",
        "    \n",
        "}"
      ],
      "id": "22ac9d15"
    },
    {
      "cell_type": "code",
      "execution_count": 28,
      "metadata": {
        "id": "c986875c"
      },
      "outputs": [],
      "source": [
        "from sklearn.model_selection import GridSearchCV\n",
        "grid_searh=GridSearchCV(estimator=model,param_grid=grid_param,cv=3,verbose=1)"
      ],
      "id": "c986875c"
    },
    {
      "cell_type": "code",
      "execution_count": 29,
      "metadata": {
        "colab": {
          "base_uri": "https://localhost:8080/"
        },
        "id": "51163fff",
        "outputId": "f6597720-72c3-4225-9ce6-8187d1cf412f"
      },
      "outputs": [
        {
          "output_type": "stream",
          "name": "stdout",
          "text": [
            "Fitting 3 folds for each of 1344 candidates, totalling 4032 fits\n"
          ]
        },
        {
          "output_type": "execute_result",
          "data": {
            "text/plain": [
              "GridSearchCV(cv=3, estimator=DecisionTreeClassifier(),\n",
              "             param_grid={'criterion': ['gini', 'entropy'],\n",
              "                         'max_depth': range(2, 10),\n",
              "                         'min_samples_leaf': range(1, 8),\n",
              "                         'min_samples_split': range(2, 8),\n",
              "                         'splitter': ['best', 'random']},\n",
              "             verbose=1)"
            ]
          },
          "metadata": {},
          "execution_count": 29
        }
      ],
      "source": [
        "grid_searh.fit(X_train,y_train)"
      ],
      "id": "51163fff"
    },
    {
      "cell_type": "code",
      "execution_count": 30,
      "metadata": {
        "colab": {
          "base_uri": "https://localhost:8080/"
        },
        "id": "3a735b84",
        "outputId": "bd2430c1-9d53-49f2-fbb5-8d4dab3bd5dc"
      },
      "outputs": [
        {
          "output_type": "execute_result",
          "data": {
            "text/plain": [
              "{'criterion': 'entropy',\n",
              " 'max_depth': 4,\n",
              " 'min_samples_leaf': 6,\n",
              " 'min_samples_split': 6,\n",
              " 'splitter': 'random'}"
            ]
          },
          "metadata": {},
          "execution_count": 30
        }
      ],
      "source": [
        "grid_searh.best_params_"
      ],
      "id": "3a735b84"
    },
    {
      "cell_type": "code",
      "execution_count": 31,
      "metadata": {
        "id": "f5055ac7"
      },
      "outputs": [],
      "source": [
        "model_with_best_params=DecisionTreeClassifier(criterion= 'gini',max_depth= 6,min_samples_leaf= 4,min_samples_split= 6,splitter='random')"
      ],
      "id": "f5055ac7"
    },
    {
      "cell_type": "code",
      "execution_count": 32,
      "metadata": {
        "colab": {
          "base_uri": "https://localhost:8080/"
        },
        "id": "bf7adc13",
        "outputId": "63acd4f8-a90a-401a-b370-d1a02068d6d9"
      },
      "outputs": [
        {
          "output_type": "execute_result",
          "data": {
            "text/plain": [
              "DecisionTreeClassifier(max_depth=6, min_samples_leaf=4, min_samples_split=6,\n",
              "                       splitter='random')"
            ]
          },
          "metadata": {},
          "execution_count": 32
        }
      ],
      "source": [
        "model_with_best_params.fit(X_train,y_train)"
      ],
      "id": "bf7adc13"
    },
    {
      "cell_type": "code",
      "execution_count": 33,
      "metadata": {
        "colab": {
          "base_uri": "https://localhost:8080/",
          "height": 1000
        },
        "id": "4603c083",
        "outputId": "376b16e3-c929-46b8-ca65-8a23dde6d51f"
      },
      "outputs": [
        {
          "output_type": "execute_result",
          "data": {
            "text/plain": [
              "[Text(0.6383196721311475, 0.9285714285714286, 'X[10] <= 11.014\\ngini = 0.645\\nsamples = 910\\nvalue = [7, 31, 389, 359, 114, 10]'),\n",
              " Text(0.39139344262295084, 0.7857142857142857, 'X[6] <= 89.611\\ngini = 0.582\\nsamples = 669\\nvalue = [7, 23, 360, 234, 44, 1]'),\n",
              " Text(0.22540983606557377, 0.6428571428571429, 'X[10] <= 9.906\\ngini = 0.61\\nsamples = 573\\nvalue = [7, 23, 273, 226, 43, 1]'),\n",
              " Text(0.12295081967213115, 0.5, 'X[1] <= 0.703\\ngini = 0.516\\nsamples = 306\\nvalue = [2, 13, 190, 95, 6, 0]'),\n",
              " Text(0.06557377049180328, 0.35714285714285715, 'X[6] <= 54.368\\ngini = 0.529\\nsamples = 255\\nvalue = [2, 8, 151, 88, 6, 0]'),\n",
              " Text(0.03278688524590164, 0.21428571428571427, 'X[1] <= 0.344\\ngini = 0.563\\nsamples = 169\\nvalue = [2, 5, 89, 67, 6, 0]'),\n",
              " Text(0.01639344262295082, 0.07142857142857142, 'gini = 0.54\\nsamples = 21\\nvalue = [0, 0, 5, 13, 3, 0]'),\n",
              " Text(0.04918032786885246, 0.07142857142857142, 'gini = 0.543\\nsamples = 148\\nvalue = [2, 5, 84, 54, 3, 0]'),\n",
              " Text(0.09836065573770492, 0.21428571428571427, 'X[6] <= 58.297\\ngini = 0.419\\nsamples = 86\\nvalue = [0, 3, 62, 21, 0, 0]'),\n",
              " Text(0.08196721311475409, 0.07142857142857142, 'gini = 0.5\\nsamples = 12\\nvalue = [0, 0, 6, 6, 0, 0]'),\n",
              " Text(0.11475409836065574, 0.07142857142857142, 'gini = 0.385\\nsamples = 74\\nvalue = [0, 3, 56, 15, 0, 0]'),\n",
              " Text(0.18032786885245902, 0.35714285714285715, 'X[2] <= 0.27\\ngini = 0.387\\nsamples = 51\\nvalue = [0, 5, 39, 7, 0, 0]'),\n",
              " Text(0.16393442622950818, 0.21428571428571427, 'X[0] <= 7.93\\ngini = 0.357\\nsamples = 47\\nvalue = [0, 4, 37, 6, 0, 0]'),\n",
              " Text(0.14754098360655737, 0.07142857142857142, 'gini = 0.21\\nsamples = 26\\nvalue = [0, 1, 23, 2, 0, 0]'),\n",
              " Text(0.18032786885245902, 0.07142857142857142, 'gini = 0.499\\nsamples = 21\\nvalue = [0, 3, 14, 4, 0, 0]'),\n",
              " Text(0.19672131147540983, 0.21428571428571427, 'gini = 0.625\\nsamples = 4\\nvalue = [0, 1, 2, 1, 0, 0]'),\n",
              " Text(0.32786885245901637, 0.5, 'X[4] <= 0.076\\ngini = 0.642\\nsamples = 267\\nvalue = [5, 10, 83, 131, 37, 1]'),\n",
              " Text(0.26229508196721313, 0.35714285714285715, 'X[9] <= 0.798\\ngini = 0.661\\nsamples = 94\\nvalue = [0, 6, 21, 46, 20, 1]'),\n",
              " Text(0.22950819672131148, 0.21428571428571427, 'X[10] <= 10.187\\ngini = 0.648\\nsamples = 71\\nvalue = [0, 6, 19, 36, 9, 1]'),\n",
              " Text(0.21311475409836064, 0.07142857142857142, 'gini = 0.659\\nsamples = 19\\nvalue = [0, 1, 7, 8, 3, 0]'),\n",
              " Text(0.2459016393442623, 0.07142857142857142, 'gini = 0.634\\nsamples = 52\\nvalue = [0, 5, 12, 28, 6, 1]'),\n",
              " Text(0.29508196721311475, 0.21428571428571427, 'X[5] <= 9.121\\ngini = 0.575\\nsamples = 23\\nvalue = [0, 0, 2, 10, 11, 0]'),\n",
              " Text(0.2786885245901639, 0.07142857142857142, 'gini = 0.531\\nsamples = 8\\nvalue = [0, 0, 1, 2, 5, 0]'),\n",
              " Text(0.3114754098360656, 0.07142857142857142, 'gini = 0.551\\nsamples = 15\\nvalue = [0, 0, 1, 8, 6, 0]'),\n",
              " Text(0.39344262295081966, 0.35714285714285715, 'X[9] <= 0.59\\ngini = 0.619\\nsamples = 173\\nvalue = [5, 4, 62, 85, 17, 0]'),\n",
              " Text(0.36065573770491804, 0.21428571428571427, 'X[10] <= 10.85\\ngini = 0.594\\nsamples = 71\\nvalue = [4, 3, 38, 24, 2, 0]'),\n",
              " Text(0.3442622950819672, 0.07142857142857142, 'gini = 0.571\\nsamples = 60\\nvalue = [2, 2, 31, 24, 1, 0]'),\n",
              " Text(0.3770491803278688, 0.07142857142857142, 'gini = 0.545\\nsamples = 11\\nvalue = [2, 1, 7, 0, 1, 0]'),\n",
              " Text(0.4262295081967213, 0.21428571428571427, 'X[4] <= 0.089\\ngini = 0.565\\nsamples = 102\\nvalue = [1, 1, 24, 61, 15, 0]'),\n",
              " Text(0.4098360655737705, 0.07142857142857142, 'gini = 0.45\\nsamples = 63\\nvalue = [1, 0, 11, 45, 6, 0]'),\n",
              " Text(0.4426229508196721, 0.07142857142857142, 'gini = 0.667\\nsamples = 39\\nvalue = [0, 1, 13, 16, 9, 0]'),\n",
              " Text(0.5573770491803278, 0.6428571428571429, 'X[9] <= 1.059\\ngini = 0.172\\nsamples = 96\\nvalue = [0, 0, 87, 8, 1, 0]'),\n",
              " Text(0.5409836065573771, 0.5, 'X[4] <= 0.095\\ngini = 0.145\\nsamples = 90\\nvalue = [0, 0, 83, 6, 1, 0]'),\n",
              " Text(0.5245901639344263, 0.35714285714285715, 'X[6] <= 105.592\\ngini = 0.216\\nsamples = 58\\nvalue = [0, 0, 51, 6, 1, 0]'),\n",
              " Text(0.4918032786885246, 0.21428571428571427, 'X[10] <= 9.885\\ngini = 0.368\\nsamples = 22\\nvalue = [0, 0, 17, 4, 1, 0]'),\n",
              " Text(0.47540983606557374, 0.07142857142857142, 'gini = 0.426\\nsamples = 13\\nvalue = [0, 0, 9, 4, 0, 0]'),\n",
              " Text(0.5081967213114754, 0.07142857142857142, 'gini = 0.198\\nsamples = 9\\nvalue = [0, 0, 8, 0, 1, 0]'),\n",
              " Text(0.5573770491803278, 0.21428571428571427, 'X[4] <= 0.072\\ngini = 0.105\\nsamples = 36\\nvalue = [0, 0, 34, 2, 0, 0]'),\n",
              " Text(0.5409836065573771, 0.07142857142857142, 'gini = 0.444\\nsamples = 6\\nvalue = [0, 0, 4, 2, 0, 0]'),\n",
              " Text(0.5737704918032787, 0.07142857142857142, 'gini = 0.0\\nsamples = 30\\nvalue = [0, 0, 30, 0, 0, 0]'),\n",
              " Text(0.5573770491803278, 0.35714285714285715, 'gini = 0.0\\nsamples = 32\\nvalue = [0, 0, 32, 0, 0, 0]'),\n",
              " Text(0.5737704918032787, 0.5, 'gini = 0.444\\nsamples = 6\\nvalue = [0, 0, 4, 2, 0, 0]'),\n",
              " Text(0.8852459016393442, 0.7857142857142857, 'X[1] <= 0.791\\ngini = 0.63\\nsamples = 241\\nvalue = [0, 8, 29, 125, 70, 9]'),\n",
              " Text(0.8032786885245902, 0.6428571428571429, 'X[3] <= 4.355\\ngini = 0.612\\nsamples = 228\\nvalue = [0, 3, 26, 121, 69, 9]'),\n",
              " Text(0.7213114754098361, 0.5, 'X[10] <= 12.556\\ngini = 0.591\\nsamples = 207\\nvalue = [0, 1, 23, 116, 59, 8]'),\n",
              " Text(0.6557377049180327, 0.35714285714285715, 'X[5] <= 17.189\\ngini = 0.562\\nsamples = 171\\nvalue = [0, 1, 19, 102, 45, 4]'),\n",
              " Text(0.6229508196721312, 0.21428571428571427, 'X[9] <= 0.65\\ngini = 0.601\\nsamples = 112\\nvalue = [0, 1, 13, 60, 35, 3]'),\n",
              " Text(0.6065573770491803, 0.07142857142857142, 'gini = 0.518\\nsamples = 55\\nvalue = [0, 1, 9, 36, 9, 0]'),\n",
              " Text(0.639344262295082, 0.07142857142857142, 'gini = 0.607\\nsamples = 57\\nvalue = [0, 0, 4, 24, 26, 3]'),\n",
              " Text(0.6885245901639344, 0.21428571428571427, 'X[3] <= 2.355\\ngini = 0.454\\nsamples = 59\\nvalue = [0, 0, 6, 42, 10, 1]'),\n",
              " Text(0.6721311475409836, 0.07142857142857142, 'gini = 0.403\\nsamples = 41\\nvalue = [0, 0, 5, 31, 4, 1]'),\n",
              " Text(0.7049180327868853, 0.07142857142857142, 'gini = 0.512\\nsamples = 18\\nvalue = [0, 0, 1, 11, 6, 0]'),\n",
              " Text(0.7868852459016393, 0.35714285714285715, 'X[9] <= 0.769\\ngini = 0.673\\nsamples = 36\\nvalue = [0, 0, 4, 14, 14, 4]'),\n",
              " Text(0.7540983606557377, 0.21428571428571427, 'X[7] <= 0.995\\ngini = 0.664\\nsamples = 27\\nvalue = [0, 0, 4, 12, 9, 2]'),\n",
              " Text(0.7377049180327869, 0.07142857142857142, 'gini = 0.69\\nsamples = 22\\nvalue = [0, 0, 4, 7, 9, 2]'),\n",
              " Text(0.7704918032786885, 0.07142857142857142, 'gini = 0.0\\nsamples = 5\\nvalue = [0, 0, 0, 5, 0, 0]'),\n",
              " Text(0.819672131147541, 0.21428571428571427, 'X[9] <= 0.805\\ngini = 0.593\\nsamples = 9\\nvalue = [0, 0, 0, 2, 5, 2]'),\n",
              " Text(0.8032786885245902, 0.07142857142857142, 'gini = 0.5\\nsamples = 4\\nvalue = [0, 0, 0, 2, 2, 0]'),\n",
              " Text(0.8360655737704918, 0.07142857142857142, 'gini = 0.48\\nsamples = 5\\nvalue = [0, 0, 0, 0, 3, 2]'),\n",
              " Text(0.8852459016393442, 0.5, 'X[0] <= 10.44\\ngini = 0.685\\nsamples = 21\\nvalue = [0, 2, 3, 5, 10, 1]'),\n",
              " Text(0.8688524590163934, 0.35714285714285715, 'X[0] <= 7.211\\ngini = 0.625\\nsamples = 16\\nvalue = [0, 2, 1, 3, 9, 1]'),\n",
              " Text(0.8524590163934426, 0.21428571428571427, 'gini = 0.56\\nsamples = 5\\nvalue = [0, 1, 0, 3, 1, 0]'),\n",
              " Text(0.8852459016393442, 0.21428571428571427, 'X[5] <= 8.108\\ngini = 0.446\\nsamples = 11\\nvalue = [0, 1, 1, 0, 8, 1]'),\n",
              " Text(0.8688524590163934, 0.07142857142857142, 'gini = 0.667\\nsamples = 6\\nvalue = [0, 1, 1, 0, 3, 1]'),\n",
              " Text(0.9016393442622951, 0.07142857142857142, 'gini = 0.0\\nsamples = 5\\nvalue = [0, 0, 0, 0, 5, 0]'),\n",
              " Text(0.9016393442622951, 0.35714285714285715, 'gini = 0.64\\nsamples = 5\\nvalue = [0, 0, 2, 2, 1, 0]'),\n",
              " Text(0.9672131147540983, 0.6428571428571429, 'X[10] <= 11.506\\ngini = 0.698\\nsamples = 13\\nvalue = [0, 5, 3, 4, 1, 0]'),\n",
              " Text(0.9508196721311475, 0.5, 'X[0] <= 6.756\\ngini = 0.531\\nsamples = 8\\nvalue = [0, 5, 2, 1, 0, 0]'),\n",
              " Text(0.9344262295081968, 0.35714285714285715, 'gini = 0.625\\nsamples = 4\\nvalue = [0, 2, 1, 1, 0, 0]'),\n",
              " Text(0.9672131147540983, 0.35714285714285715, 'gini = 0.375\\nsamples = 4\\nvalue = [0, 3, 1, 0, 0, 0]'),\n",
              " Text(0.9836065573770492, 0.5, 'gini = 0.56\\nsamples = 5\\nvalue = [0, 0, 1, 3, 1, 0]')]"
            ]
          },
          "metadata": {},
          "execution_count": 33
        },
        {
          "output_type": "display_data",
          "data": {
            "text/plain": [
              "<Figure size 1800x1080 with 1 Axes>"
            ],
            "image/png": "[encoded data removed]"
          },
          "metadata": {
            "needs_background": "light"
          }
        }
      ],
      "source": [
        "from sklearn import tree\n",
        "import matplotlib.pyplot as plt\n",
        "fig=plt.figure(figsize=(25,15))\n",
        "tree.plot_tree(model_with_best_params,filled=True,fontsize=10)"
      ],
      "id": "4603c083"
    },
    {
      "cell_type": "code",
      "execution_count": 34,
      "metadata": {
        "id": "4e2c1351"
      },
      "outputs": [],
      "source": [
        "y_prediction2=model_with_best_params.predict(X_test)"
      ],
      "id": "4e2c1351"
    },
    {
      "cell_type": "code",
      "execution_count": 35,
      "metadata": {
        "colab": {
          "base_uri": "https://localhost:8080/"
        },
        "id": "893557a3",
        "outputId": "ef224af5-7ef7-4a62-f87f-c172ac7f3169"
      },
      "outputs": [
        {
          "output_type": "execute_result",
          "data": {
            "text/plain": [
              "0.532293986636971"
            ]
          },
          "metadata": {},
          "execution_count": 35
        }
      ],
      "source": [
        "accuracy_score(y_test,y_prediction2)"
      ],
      "id": "893557a3"
    },
    {
      "cell_type": "code",
      "execution_count": 35,
      "metadata": {
        "id": "BdeyjNdPYBZi"
      },
      "outputs": [],
      "source": [],
      "id": "BdeyjNdPYBZi"
    },
    {
      "cell_type": "code",
      "execution_count": 36,
      "metadata": {
        "id": "06507b8d"
      },
      "outputs": [],
      "source": [
        "#logistic regression, SVM ,  going forward(RF,XB,GB,AB)"
      ],
      "id": "06507b8d"
    },
    {
      "cell_type": "markdown",
      "metadata": {
        "id": "PL78PUTIirf2"
      },
      "source": [
        "#Implement the decision tree regressor\n",
        "dataset:https://archive.ics.uci.edu/ml/datasets/individual+household+electric+power+consumption\n",
        "        \n",
        "take_refrence_from_here:https://scikit-learn.org/stable/modules/generated/sklearn.tree.DecisionTreeRegressor.html#sklearn.tree.DecisionTreeRegressor\n",
        "\n",
        "```\n",
        "# This is formatted as code\n",
        "```\n",
        "\n"
      ],
      "id": "PL78PUTIirf2"
    },
    {
      "cell_type": "code",
      "execution_count": 37,
      "metadata": {
        "id": "dcc17418"
      },
      "outputs": [],
      "source": [
        "from sklearn.ensemble import RandomForestClassifier\n",
        "Rf_model=RandomForestClassifier()"
      ],
      "id": "dcc17418"
    },
    {
      "cell_type": "code",
      "execution_count": 38,
      "metadata": {
        "colab": {
          "base_uri": "https://localhost:8080/"
        },
        "id": "1369771b",
        "outputId": "2ae50e45-7479-481e-ce0d-4a1efa241294"
      },
      "outputs": [
        {
          "output_type": "execute_result",
          "data": {
            "text/plain": [
              "RandomForestClassifier()"
            ]
          },
          "metadata": {},
          "execution_count": 38
        }
      ],
      "source": [
        "Rf_model.fit(X_train,y_train)"
      ],
      "id": "1369771b"
    },
    {
      "cell_type": "code",
      "execution_count": 39,
      "metadata": {
        "id": "0b1ecfb9"
      },
      "outputs": [],
      "source": [
        "y_pred_rf=Rf_model.predict(X_test)"
      ],
      "id": "0b1ecfb9"
    },
    {
      "cell_type": "code",
      "execution_count": 40,
      "metadata": {
        "colab": {
          "base_uri": "https://localhost:8080/"
        },
        "id": "54ac1c68",
        "outputId": "5a48e2c9-74b2-4313-d80a-cc2e1feb0a9e"
      },
      "outputs": [
        {
          "output_type": "execute_result",
          "data": {
            "text/plain": [
              "0.6080178173719376"
            ]
          },
          "metadata": {},
          "execution_count": 40
        }
      ],
      "source": [
        "accuracy_score(y_test,y_pred_rf)"
      ],
      "id": "54ac1c68"
    },
    {
      "cell_type": "code",
      "execution_count": 41,
      "metadata": {
        "id": "8990e767"
      },
      "outputs": [],
      "source": [
        "# we are tuning three hyperparameters right now, we are passing the different values for both parameters\n",
        "grid_param = {\n",
        "    \"n_estimators\" : [90,100,115,130],\n",
        "    'criterion': ['gini', 'entropy'],\n",
        "    'max_depth' : range(2,20,1),\n",
        "    'min_samples_leaf' : range(1,10,1),\n",
        "    'min_samples_split': range(2,10,1),\n",
        "    'max_features' : ['auto','log2']\n",
        "}"
      ],
      "id": "8990e767"
    },
    {
      "cell_type": "code",
      "execution_count": 42,
      "metadata": {
        "id": "123f19b7"
      },
      "outputs": [],
      "source": [
        "from sklearn.model_selection import GridSearchCV\n",
        "grid_searh=GridSearchCV(estimator=Rf_model,param_grid=grid_param,cv=3,verbose=2,n_jobs=-1)"
      ],
      "id": "123f19b7"
    },
    {
      "cell_type": "code",
      "execution_count": null,
      "metadata": {
        "id": "26223afc"
      },
      "outputs": [],
      "source": [
        "grid_searh.fit(X_train,y_train)"
      ],
      "id": "26223afc"
    },
    {
      "cell_type": "code",
      "execution_count": null,
      "metadata": {
        "id": "ded316c4"
      },
      "outputs": [],
      "source": [
        "grid_searh.best_params_"
      ],
      "id": "ded316c4"
    },
    {
      "cell_type": "code",
      "execution_count": null,
      "metadata": {
        "id": "05aa1a3f"
      },
      "outputs": [],
      "source": [
        "Rf_model_with_best_params=RandomForestClassifier(criterion='gini',max_depth= 14,max_features= 'log2',min_samples_leaf= 1,min_samples_split= 2,n_estimators=115)"
      ],
      "id": "05aa1a3f"
    },
    {
      "cell_type": "code",
      "execution_count": null,
      "metadata": {
        "id": "27ee424f"
      },
      "outputs": [],
      "source": [
        "Rf_model_with_best_params.fit(X_train,y_train)"
      ],
      "id": "27ee424f"
    },
    {
      "cell_type": "code",
      "execution_count": null,
      "metadata": {
        "id": "e04d3ab6"
      },
      "outputs": [],
      "source": [
        "y_predict_rf_bp=Rf_model_with_best_params.predict(X_test)"
      ],
      "id": "e04d3ab6"
    },
    {
      "cell_type": "code",
      "execution_count": null,
      "metadata": {
        "id": "0b8e4db8"
      },
      "outputs": [],
      "source": [
        "accuracy_score(y_test,y_predict_rf_bp)"
      ],
      "id": "0b8e4db8"
    },
    {
      "cell_type": "code",
      "execution_count": null,
      "metadata": {
        "id": "67d6e94d"
      },
      "outputs": [],
      "source": [],
      "id": "67d6e94d"
    },
    {
      "cell_type": "code",
      "execution_count": 46,
      "metadata": {
        "id": "3f3264a3"
      },
      "outputs": [],
      "source": [
        "from sklearn.svm import SVC\n",
        "from sklearn.ensemble import BaggingClassifier\n",
        "from sklearn.datasets import make_classification\n",
        "\n",
        "model_bagging_svc = BaggingClassifier(base_estimator=SVC(),n_estimators=50, random_state=0).fit(X_train,y_train)\n"
      ],
      "id": "3f3264a3"
    },
    {
      "cell_type": "code",
      "execution_count": 47,
      "metadata": {
        "id": "08dc403f"
      },
      "outputs": [],
      "source": [
        "y_predict_bagging=model_bagging_svc.predict(X_test)\n"
      ],
      "id": "08dc403f"
    },
    {
      "cell_type": "code",
      "execution_count": 48,
      "metadata": {
        "colab": {
          "base_uri": "https://localhost:8080/"
        },
        "id": "a47a2762",
        "outputId": "fb9037dd-16a4-4949-d2dd-4584de304e80"
      },
      "outputs": [
        {
          "output_type": "execute_result",
          "data": {
            "text/plain": [
              "0.4766146993318486"
            ]
          },
          "metadata": {},
          "execution_count": 48
        }
      ],
      "source": [
        "accuracy_score(y_test,y_predict_bagging)"
      ],
      "id": "a47a2762"
    },
    {
      "cell_type": "code",
      "execution_count": 49,
      "metadata": {
        "colab": {
          "base_uri": "https://localhost:8080/",
          "height": 89
        },
        "id": "ae604236",
        "outputId": "508ff80e-5166-4582-c35f-ee6c84e5131b"
      },
      "outputs": [
        {
          "output_type": "execute_result",
          "data": {
            "text/plain": [
              "'use bagging classiifer and regressor, extra tree classifier and regressor, voting classifer and regressor and random forest classifier and regressor on top of House hold consumpltion data and cencus data\\ndata link: https://archive.ics.uci.edu/ml/datasets/individual+household+electric+power+consumption\\n        https://archive.ics.uci.edu/ml/datasets/census+income\\nsklearn_link:https://scikit-learn.org/stable/modules/classes.html#module-sklearn.ensemble'"
            ],
            "application/vnd.google.colaboratory.intrinsic+json": {
              "type": "string"
            }
          },
          "metadata": {},
          "execution_count": 49
        }
      ],
      "source": [
        "'''use bagging classiifer and regressor, extra tree classifier and regressor, voting classifer and regressor and random forest classifier and regressor on top of House hold consumpltion data and cencus data\n",
        "data link: https://archive.ics.uci.edu/ml/datasets/individual+household+electric+power+consumption\n",
        "        https://archive.ics.uci.edu/ml/datasets/census+income\n",
        "sklearn_link:https://scikit-learn.org/stable/modules/classes.html#module-sklearn.ensemble'''"
      ],
      "id": "ae604236"
    },
    {
      "cell_type": "markdown",
      "metadata": {
        "id": "NxfXIUs6hqmp"
      },
      "source": [
        "Ada Boost Classifier"
      ],
      "id": "NxfXIUs6hqmp"
    },
    {
      "cell_type": "code",
      "execution_count": 50,
      "metadata": {
        "id": "p1iqFdnAhnel"
      },
      "outputs": [],
      "source": [
        "from sklearn.ensemble import AdaBoostClassifier\n",
        "model_ab=AdaBoostClassifier()"
      ],
      "id": "p1iqFdnAhnel"
    },
    {
      "cell_type": "code",
      "execution_count": 51,
      "metadata": {
        "colab": {
          "base_uri": "https://localhost:8080/"
        },
        "id": "Q7_WA3iphnqy",
        "outputId": "a5a51020-769f-42b6-8b7a-32b86b239f18"
      },
      "outputs": [
        {
          "output_type": "execute_result",
          "data": {
            "text/plain": [
              "AdaBoostClassifier()"
            ]
          },
          "metadata": {},
          "execution_count": 51
        }
      ],
      "source": [
        "model_ab.fit(X_train,y_train)"
      ],
      "id": "Q7_WA3iphnqy"
    },
    {
      "cell_type": "code",
      "execution_count": 52,
      "metadata": {
        "id": "QFdi37XRhy68"
      },
      "outputs": [],
      "source": [
        "y_pred_ab=model_ab.predict(X_test)"
      ],
      "id": "QFdi37XRhy68"
    },
    {
      "cell_type": "code",
      "execution_count": 53,
      "metadata": {
        "colab": {
          "base_uri": "https://localhost:8080/"
        },
        "id": "b8PimMCUhy9u",
        "outputId": "2212593e-3705-4f6b-c2d2-af0bae1ff722"
      },
      "outputs": [
        {
          "output_type": "execute_result",
          "data": {
            "text/plain": [
              "0.5211581291759465"
            ]
          },
          "metadata": {},
          "execution_count": 53
        }
      ],
      "source": [
        "from sklearn.metrics import accuracy_score\n",
        "accuracy_score(y_test,y_pred_ab)"
      ],
      "id": "b8PimMCUhy9u"
    },
    {
      "cell_type": "code",
      "execution_count": 54,
      "metadata": {
        "id": "49reKq1phzAV"
      },
      "outputs": [],
      "source": [
        "grid_param_ab={\n",
        "    'n_estimators':[90,100,130,150],\n",
        "    'learning_rate':[0.001,0.01,0.1,0.5]\n",
        "}"
      ],
      "id": "49reKq1phzAV"
    },
    {
      "cell_type": "code",
      "execution_count": 55,
      "metadata": {
        "id": "3Brm_CMjkKmu"
      },
      "outputs": [],
      "source": [
        "from sklearn.model_selection import GridSearchCV\n",
        "grid_search_ab=GridSearchCV(estimator=model_ab,param_grid=grid_param_ab,cv=3,verbose=2,n_jobs=-1)"
      ],
      "id": "3Brm_CMjkKmu"
    },
    {
      "cell_type": "code",
      "execution_count": 56,
      "metadata": {
        "colab": {
          "base_uri": "https://localhost:8080/"
        },
        "id": "po4cqnPIhzDe",
        "outputId": "ac01e2dc-e7ad-41c1-de84-702fef9477a1"
      },
      "outputs": [
        {
          "output_type": "stream",
          "name": "stdout",
          "text": [
            "Fitting 3 folds for each of 16 candidates, totalling 48 fits\n"
          ]
        },
        {
          "output_type": "execute_result",
          "data": {
            "text/plain": [
              "GridSearchCV(cv=3, estimator=AdaBoostClassifier(), n_jobs=-1,\n",
              "             param_grid={'learning_rate': [0.001, 0.01, 0.1, 0.5],\n",
              "                         'n_estimators': [90, 100, 130, 150]},\n",
              "             verbose=2)"
            ]
          },
          "metadata": {},
          "execution_count": 56
        }
      ],
      "source": [
        "grid_search_ab.fit(X_train,y_train)"
      ],
      "id": "po4cqnPIhzDe"
    },
    {
      "cell_type": "code",
      "execution_count": 57,
      "metadata": {
        "colab": {
          "base_uri": "https://localhost:8080/"
        },
        "id": "VKGGDMQXjvCd",
        "outputId": "81acc0c7-817e-4ecb-f33b-c6d080bc2014"
      },
      "outputs": [
        {
          "output_type": "execute_result",
          "data": {
            "text/plain": [
              "{'learning_rate': 0.001, 'n_estimators': 90}"
            ]
          },
          "metadata": {},
          "execution_count": 57
        }
      ],
      "source": [
        "grid_search_ab.best_params_"
      ],
      "id": "VKGGDMQXjvCd"
    },
    {
      "cell_type": "code",
      "execution_count": 58,
      "metadata": {
        "id": "MSg5fwIgkoY1"
      },
      "outputs": [],
      "source": [
        "model_AB=AdaBoostClassifier(learning_rate= 0.001, n_estimators = 90)"
      ],
      "id": "MSg5fwIgkoY1"
    },
    {
      "cell_type": "code",
      "execution_count": 59,
      "metadata": {
        "colab": {
          "base_uri": "https://localhost:8080/"
        },
        "id": "4Uoc0sA_k5Te",
        "outputId": "b1064142-75f7-433a-a999-fbfe272c25e7"
      },
      "outputs": [
        {
          "output_type": "execute_result",
          "data": {
            "text/plain": [
              "AdaBoostClassifier(learning_rate=0.001, n_estimators=90)"
            ]
          },
          "metadata": {},
          "execution_count": 59
        }
      ],
      "source": [
        "model_AB.fit(X_train,y_train)"
      ],
      "id": "4Uoc0sA_k5Te"
    },
    {
      "cell_type": "code",
      "execution_count": 60,
      "metadata": {
        "id": "4CEMMNpkk9-r"
      },
      "outputs": [],
      "source": [
        "y_pred_AB=model_AB.predict(X_test)"
      ],
      "id": "4CEMMNpkk9-r"
    },
    {
      "cell_type": "code",
      "execution_count": 61,
      "metadata": {
        "colab": {
          "base_uri": "https://localhost:8080/"
        },
        "id": "ZIV8KF4XlDI3",
        "outputId": "4f2d407c-7f3d-448f-a64c-700ec2522ed6"
      },
      "outputs": [
        {
          "output_type": "execute_result",
          "data": {
            "text/plain": [
              "0.5278396436525612"
            ]
          },
          "metadata": {},
          "execution_count": 61
        }
      ],
      "source": [
        "accuracy_score(y_test,y_pred_AB)"
      ],
      "id": "ZIV8KF4XlDI3"
    },
    {
      "cell_type": "markdown",
      "source": [
        "Gradient Boost"
      ],
      "metadata": {
        "id": "q9CenljrrNK8"
      },
      "id": "q9CenljrrNK8"
    },
    {
      "cell_type": "code",
      "execution_count": 62,
      "metadata": {
        "colab": {
          "base_uri": "https://localhost:8080/"
        },
        "id": "DgtMHZ6SlY_t",
        "outputId": "440e1547-04a9-42c3-87c4-9760d7f7ab0e"
      },
      "outputs": [
        {
          "output_type": "stream",
          "name": "stdout",
          "text": [
            "Thu Dec  8 16:49:42 2022       \n",
            "+-----------------------------------------------------------------------------+\n",
            "| NVIDIA-SMI 460.32.03    Driver Version: 460.32.03    CUDA Version: 11.2     |\n",
            "|-------------------------------+----------------------+----------------------+\n",
            "| GPU  Name        Persistence-M| Bus-Id        Disp.A | Volatile Uncorr. ECC |\n",
            "| Fan  Temp  Perf  Pwr:Usage/Cap|         Memory-Usage | GPU-Util  Compute M. |\n",
            "|                               |                      |               MIG M. |\n",
            "|===============================+======================+======================|\n",
            "|   0  Tesla T4            Off  | 00000000:00:04.0 Off |                    0 |\n",
            "| N/A   65C    P0    31W /  70W |      0MiB / 15109MiB |      0%      Default |\n",
            "|                               |                      |                  N/A |\n",
            "+-------------------------------+----------------------+----------------------+\n",
            "                                                                               \n",
            "+-----------------------------------------------------------------------------+\n",
            "| Processes:                                                                  |\n",
            "|  GPU   GI   CI        PID   Type   Process name                  GPU Memory |\n",
            "|        ID   ID                                                   Usage      |\n",
            "|=============================================================================|\n",
            "|  No running processes found                                                 |\n",
            "+-----------------------------------------------------------------------------+\n"
          ]
        }
      ],
      "source": [
        "# Check GPU Details\n",
        "!nvidia-smi\n",
        "#  Tesla T4"
      ],
      "id": "DgtMHZ6SlY_t"
    },
    {
      "cell_type": "code",
      "execution_count": 63,
      "metadata": {
        "id": "sksaEOsJaMgd"
      },
      "outputs": [],
      "source": [
        "from sklearn.ensemble import GradientBoostingClassifier\n",
        "model_gb=GradientBoostingClassifier()"
      ],
      "id": "sksaEOsJaMgd"
    },
    {
      "cell_type": "code",
      "execution_count": 64,
      "metadata": {
        "colab": {
          "base_uri": "https://localhost:8080/"
        },
        "id": "82HNCmHKagmw",
        "outputId": "afa98630-051c-4f0b-9ba8-f70748994cb0"
      },
      "outputs": [
        {
          "output_type": "execute_result",
          "data": {
            "text/plain": [
              "GradientBoostingClassifier()"
            ]
          },
          "metadata": {},
          "execution_count": 64
        }
      ],
      "source": [
        "model_gb.fit(X_train,y_train)"
      ],
      "id": "82HNCmHKagmw"
    },
    {
      "cell_type": "code",
      "execution_count": 65,
      "metadata": {
        "id": "oXBfWjRYbHPc"
      },
      "outputs": [],
      "source": [
        "y_pred_gb=model_gb.predict(X_test)"
      ],
      "id": "oXBfWjRYbHPc"
    },
    {
      "cell_type": "code",
      "execution_count": 66,
      "metadata": {
        "id": "0jvg3RqHbPob"
      },
      "outputs": [],
      "source": [
        "from sklearn.metrics import accuracy_score"
      ],
      "id": "0jvg3RqHbPob"
    },
    {
      "cell_type": "code",
      "execution_count": 67,
      "metadata": {
        "colab": {
          "base_uri": "https://localhost:8080/"
        },
        "id": "fEhURJMbajRg",
        "outputId": "c235b42a-0f0e-4430-b078-9cec55a4af7d"
      },
      "outputs": [
        {
          "output_type": "execute_result",
          "data": {
            "text/plain": [
              "0.576837416481069"
            ]
          },
          "metadata": {},
          "execution_count": 67
        }
      ],
      "source": [
        "accuracy_score(y_test,y_pred_gb)"
      ],
      "id": "fEhURJMbajRg"
    },
    {
      "cell_type": "code",
      "execution_count": 68,
      "metadata": {
        "id": "4Faxm2D0fJLM"
      },
      "outputs": [],
      "source": [
        "from sklearn.model_selection import GridSearchCV"
      ],
      "id": "4Faxm2D0fJLM"
    },
    {
      "cell_type": "code",
      "execution_count": 80,
      "metadata": {
        "id": "vD-zt5-4fNdG"
      },
      "outputs": [],
      "source": [
        "grid_param_gb= {\n",
        "    'learning_rate':[0.1,0.01,0.001,0.0001],\n",
        "    'n_estimators':[90,100,115,130],\n",
        "    'max_depth' : range(2,20,1),\n",
        "    'min_samples_leaf' : range(1,10,1),\n",
        "    'min_samples_split': range(2,10,1),\n",
        "    'max_features' : ['auto','log2']\n",
        "}"
      ],
      "id": "vD-zt5-4fNdG"
    },
    {
      "cell_type": "code",
      "execution_count": 81,
      "metadata": {
        "id": "0lJnFszQgBiz"
      },
      "outputs": [],
      "source": [
        "grid_search_gb=GridSearchCV(estimator=model_gb, param_grid=grid_param_gb, cv=5, verbose=2, n_jobs=-1)"
      ],
      "id": "0lJnFszQgBiz"
    },
    {
      "cell_type": "code",
      "execution_count": 82,
      "metadata": {
        "colab": {
          "base_uri": "https://localhost:8080/",
          "height": 341
        },
        "id": "-XNxPzpJgBYk",
        "outputId": "9d237d13-407a-40ad-e9ad-b2ff5ce7874b"
      },
      "outputs": [
        {
          "output_type": "stream",
          "name": "stdout",
          "text": [
            "Fitting 5 folds for each of 41472 candidates, totalling 207360 fits\n"
          ]
        },
        {
          "output_type": "error",
          "ename": "KeyboardInterrupt",
          "evalue": "ignored",
          "traceback": [
            "\u001b[0;31m---------------------------------------------------------------------------\u001b[0m",
            "\u001b[0;31mKeyboardInterrupt\u001b[0m                         Traceback (most recent call last)",
            "\u001b[0;32m<ipython-input-82-df167183232b>\u001b[0m in \u001b[0;36m<module>\u001b[0;34m\u001b[0m\n\u001b[0;32m----> 1\u001b[0;31m \u001b[0mgrid_search_gb\u001b[0m\u001b[0;34m.\u001b[0m\u001b[0mfit\u001b[0m\u001b[0;34m(\u001b[0m\u001b[0mX_train\u001b[0m\u001b[0;34m,\u001b[0m\u001b[0my_train\u001b[0m\u001b[0;34m)\u001b[0m\u001b[0;34m\u001b[0m\u001b[0;34m\u001b[0m\u001b[0m\n\u001b[0m",
            "\u001b[0;32m/usr/local/lib/python3.8/dist-packages/sklearn/model_selection/_search.py\u001b[0m in \u001b[0;36mfit\u001b[0;34m(self, X, y, groups, **fit_params)\u001b[0m\n\u001b[1;32m    889\u001b[0m                 \u001b[0;32mreturn\u001b[0m \u001b[0mresults\u001b[0m\u001b[0;34m\u001b[0m\u001b[0;34m\u001b[0m\u001b[0m\n\u001b[1;32m    890\u001b[0m \u001b[0;34m\u001b[0m\u001b[0m\n\u001b[0;32m--> 891\u001b[0;31m             \u001b[0mself\u001b[0m\u001b[0;34m.\u001b[0m\u001b[0m_run_search\u001b[0m\u001b[0;34m(\u001b[0m\u001b[0mevaluate_candidates\u001b[0m\u001b[0;34m)\u001b[0m\u001b[0;34m\u001b[0m\u001b[0;34m\u001b[0m\u001b[0m\n\u001b[0m\u001b[1;32m    892\u001b[0m \u001b[0;34m\u001b[0m\u001b[0m\n\u001b[1;32m    893\u001b[0m             \u001b[0;31m# multimetric is determined here because in the case of a callable\u001b[0m\u001b[0;34m\u001b[0m\u001b[0;34m\u001b[0m\u001b[0;34m\u001b[0m\u001b[0m\n",
            "\u001b[0;32m/usr/local/lib/python3.8/dist-packages/sklearn/model_selection/_search.py\u001b[0m in \u001b[0;36m_run_search\u001b[0;34m(self, evaluate_candidates)\u001b[0m\n\u001b[1;32m   1390\u001b[0m     \u001b[0;32mdef\u001b[0m \u001b[0m_run_search\u001b[0m\u001b[0;34m(\u001b[0m\u001b[0mself\u001b[0m\u001b[0;34m,\u001b[0m \u001b[0mevaluate_candidates\u001b[0m\u001b[0;34m)\u001b[0m\u001b[0;34m:\u001b[0m\u001b[0;34m\u001b[0m\u001b[0;34m\u001b[0m\u001b[0m\n\u001b[1;32m   1391\u001b[0m         \u001b[0;34m\"\"\"Search all candidates in param_grid\"\"\"\u001b[0m\u001b[0;34m\u001b[0m\u001b[0;34m\u001b[0m\u001b[0m\n\u001b[0;32m-> 1392\u001b[0;31m         \u001b[0mevaluate_candidates\u001b[0m\u001b[0;34m(\u001b[0m\u001b[0mParameterGrid\u001b[0m\u001b[0;34m(\u001b[0m\u001b[0mself\u001b[0m\u001b[0;34m.\u001b[0m\u001b[0mparam_grid\u001b[0m\u001b[0;34m)\u001b[0m\u001b[0;34m)\u001b[0m\u001b[0;34m\u001b[0m\u001b[0;34m\u001b[0m\u001b[0m\n\u001b[0m\u001b[1;32m   1393\u001b[0m \u001b[0;34m\u001b[0m\u001b[0m\n\u001b[1;32m   1394\u001b[0m \u001b[0;34m\u001b[0m\u001b[0m\n",
            "\u001b[0;32m/usr/local/lib/python3.8/dist-packages/sklearn/model_selection/_search.py\u001b[0m in \u001b[0;36mevaluate_candidates\u001b[0;34m(candidate_params, cv, more_results)\u001b[0m\n\u001b[1;32m    836\u001b[0m                     )\n\u001b[1;32m    837\u001b[0m \u001b[0;34m\u001b[0m\u001b[0m\n\u001b[0;32m--> 838\u001b[0;31m                 out = parallel(\n\u001b[0m\u001b[1;32m    839\u001b[0m                     delayed(_fit_and_score)(\n\u001b[1;32m    840\u001b[0m                         \u001b[0mclone\u001b[0m\u001b[0;34m(\u001b[0m\u001b[0mbase_estimator\u001b[0m\u001b[0;34m)\u001b[0m\u001b[0;34m,\u001b[0m\u001b[0;34m\u001b[0m\u001b[0;34m\u001b[0m\u001b[0m\n",
            "\u001b[0;32m/usr/local/lib/python3.8/dist-packages/joblib/parallel.py\u001b[0m in \u001b[0;36m__call__\u001b[0;34m(self, iterable)\u001b[0m\n\u001b[1;32m   1096\u001b[0m \u001b[0;34m\u001b[0m\u001b[0m\n\u001b[1;32m   1097\u001b[0m             \u001b[0;32mwith\u001b[0m \u001b[0mself\u001b[0m\u001b[0;34m.\u001b[0m\u001b[0m_backend\u001b[0m\u001b[0;34m.\u001b[0m\u001b[0mretrieval_context\u001b[0m\u001b[0;34m(\u001b[0m\u001b[0;34m)\u001b[0m\u001b[0;34m:\u001b[0m\u001b[0;34m\u001b[0m\u001b[0;34m\u001b[0m\u001b[0m\n\u001b[0;32m-> 1098\u001b[0;31m                 \u001b[0mself\u001b[0m\u001b[0;34m.\u001b[0m\u001b[0mretrieve\u001b[0m\u001b[0;34m(\u001b[0m\u001b[0;34m)\u001b[0m\u001b[0;34m\u001b[0m\u001b[0;34m\u001b[0m\u001b[0m\n\u001b[0m\u001b[1;32m   1099\u001b[0m             \u001b[0;31m# Make sure that we get a last message telling us we are done\u001b[0m\u001b[0;34m\u001b[0m\u001b[0;34m\u001b[0m\u001b[0;34m\u001b[0m\u001b[0m\n\u001b[1;32m   1100\u001b[0m             \u001b[0melapsed_time\u001b[0m \u001b[0;34m=\u001b[0m \u001b[0mtime\u001b[0m\u001b[0;34m.\u001b[0m\u001b[0mtime\u001b[0m\u001b[0;34m(\u001b[0m\u001b[0;34m)\u001b[0m \u001b[0;34m-\u001b[0m \u001b[0mself\u001b[0m\u001b[0;34m.\u001b[0m\u001b[0m_start_time\u001b[0m\u001b[0;34m\u001b[0m\u001b[0;34m\u001b[0m\u001b[0m\n",
            "\u001b[0;32m/usr/local/lib/python3.8/dist-packages/joblib/parallel.py\u001b[0m in \u001b[0;36mretrieve\u001b[0;34m(self)\u001b[0m\n\u001b[1;32m    973\u001b[0m             \u001b[0;32mtry\u001b[0m\u001b[0;34m:\u001b[0m\u001b[0;34m\u001b[0m\u001b[0;34m\u001b[0m\u001b[0m\n\u001b[1;32m    974\u001b[0m                 \u001b[0;32mif\u001b[0m \u001b[0mgetattr\u001b[0m\u001b[0;34m(\u001b[0m\u001b[0mself\u001b[0m\u001b[0;34m.\u001b[0m\u001b[0m_backend\u001b[0m\u001b[0;34m,\u001b[0m \u001b[0;34m'supports_timeout'\u001b[0m\u001b[0;34m,\u001b[0m \u001b[0;32mFalse\u001b[0m\u001b[0;34m)\u001b[0m\u001b[0;34m:\u001b[0m\u001b[0;34m\u001b[0m\u001b[0;34m\u001b[0m\u001b[0m\n\u001b[0;32m--> 975\u001b[0;31m                     \u001b[0mself\u001b[0m\u001b[0;34m.\u001b[0m\u001b[0m_output\u001b[0m\u001b[0;34m.\u001b[0m\u001b[0mextend\u001b[0m\u001b[0;34m(\u001b[0m\u001b[0mjob\u001b[0m\u001b[0;34m.\u001b[0m\u001b[0mget\u001b[0m\u001b[0;34m(\u001b[0m\u001b[0mtimeout\u001b[0m\u001b[0;34m=\u001b[0m\u001b[0mself\u001b[0m\u001b[0;34m.\u001b[0m\u001b[0mtimeout\u001b[0m\u001b[0;34m)\u001b[0m\u001b[0;34m)\u001b[0m\u001b[0;34m\u001b[0m\u001b[0;34m\u001b[0m\u001b[0m\n\u001b[0m\u001b[1;32m    976\u001b[0m                 \u001b[0;32melse\u001b[0m\u001b[0;34m:\u001b[0m\u001b[0;34m\u001b[0m\u001b[0;34m\u001b[0m\u001b[0m\n\u001b[1;32m    977\u001b[0m                     \u001b[0mself\u001b[0m\u001b[0;34m.\u001b[0m\u001b[0m_output\u001b[0m\u001b[0;34m.\u001b[0m\u001b[0mextend\u001b[0m\u001b[0;34m(\u001b[0m\u001b[0mjob\u001b[0m\u001b[0;34m.\u001b[0m\u001b[0mget\u001b[0m\u001b[0;34m(\u001b[0m\u001b[0;34m)\u001b[0m\u001b[0;34m)\u001b[0m\u001b[0;34m\u001b[0m\u001b[0;34m\u001b[0m\u001b[0m\n",
            "\u001b[0;32m/usr/local/lib/python3.8/dist-packages/joblib/_parallel_backends.py\u001b[0m in \u001b[0;36mwrap_future_result\u001b[0;34m(future, timeout)\u001b[0m\n\u001b[1;32m    565\u001b[0m         AsyncResults.get from multiprocessing.\"\"\"\n\u001b[1;32m    566\u001b[0m         \u001b[0;32mtry\u001b[0m\u001b[0;34m:\u001b[0m\u001b[0;34m\u001b[0m\u001b[0;34m\u001b[0m\u001b[0m\n\u001b[0;32m--> 567\u001b[0;31m             \u001b[0;32mreturn\u001b[0m \u001b[0mfuture\u001b[0m\u001b[0;34m.\u001b[0m\u001b[0mresult\u001b[0m\u001b[0;34m(\u001b[0m\u001b[0mtimeout\u001b[0m\u001b[0;34m=\u001b[0m\u001b[0mtimeout\u001b[0m\u001b[0;34m)\u001b[0m\u001b[0;34m\u001b[0m\u001b[0;34m\u001b[0m\u001b[0m\n\u001b[0m\u001b[1;32m    568\u001b[0m         \u001b[0;32mexcept\u001b[0m \u001b[0mCfTimeoutError\u001b[0m \u001b[0;32mas\u001b[0m \u001b[0me\u001b[0m\u001b[0;34m:\u001b[0m\u001b[0;34m\u001b[0m\u001b[0;34m\u001b[0m\u001b[0m\n\u001b[1;32m    569\u001b[0m             \u001b[0;32mraise\u001b[0m \u001b[0mTimeoutError\u001b[0m \u001b[0;32mfrom\u001b[0m \u001b[0me\u001b[0m\u001b[0;34m\u001b[0m\u001b[0;34m\u001b[0m\u001b[0m\n",
            "\u001b[0;32m/usr/lib/python3.8/concurrent/futures/_base.py\u001b[0m in \u001b[0;36mresult\u001b[0;34m(self, timeout)\u001b[0m\n\u001b[1;32m    437\u001b[0m                     \u001b[0;32mreturn\u001b[0m \u001b[0mself\u001b[0m\u001b[0;34m.\u001b[0m\u001b[0m__get_result\u001b[0m\u001b[0;34m(\u001b[0m\u001b[0;34m)\u001b[0m\u001b[0;34m\u001b[0m\u001b[0;34m\u001b[0m\u001b[0m\n\u001b[1;32m    438\u001b[0m \u001b[0;34m\u001b[0m\u001b[0m\n\u001b[0;32m--> 439\u001b[0;31m                 \u001b[0mself\u001b[0m\u001b[0;34m.\u001b[0m\u001b[0m_condition\u001b[0m\u001b[0;34m.\u001b[0m\u001b[0mwait\u001b[0m\u001b[0;34m(\u001b[0m\u001b[0mtimeout\u001b[0m\u001b[0;34m)\u001b[0m\u001b[0;34m\u001b[0m\u001b[0;34m\u001b[0m\u001b[0m\n\u001b[0m\u001b[1;32m    440\u001b[0m \u001b[0;34m\u001b[0m\u001b[0m\n\u001b[1;32m    441\u001b[0m                 \u001b[0;32mif\u001b[0m \u001b[0mself\u001b[0m\u001b[0;34m.\u001b[0m\u001b[0m_state\u001b[0m \u001b[0;32min\u001b[0m \u001b[0;34m[\u001b[0m\u001b[0mCANCELLED\u001b[0m\u001b[0;34m,\u001b[0m \u001b[0mCANCELLED_AND_NOTIFIED\u001b[0m\u001b[0;34m]\u001b[0m\u001b[0;34m:\u001b[0m\u001b[0;34m\u001b[0m\u001b[0;34m\u001b[0m\u001b[0m\n",
            "\u001b[0;32m/usr/lib/python3.8/threading.py\u001b[0m in \u001b[0;36mwait\u001b[0;34m(self, timeout)\u001b[0m\n\u001b[1;32m    300\u001b[0m         \u001b[0;32mtry\u001b[0m\u001b[0;34m:\u001b[0m    \u001b[0;31m# restore state no matter what (e.g., KeyboardInterrupt)\u001b[0m\u001b[0;34m\u001b[0m\u001b[0;34m\u001b[0m\u001b[0m\n\u001b[1;32m    301\u001b[0m             \u001b[0;32mif\u001b[0m \u001b[0mtimeout\u001b[0m \u001b[0;32mis\u001b[0m \u001b[0;32mNone\u001b[0m\u001b[0;34m:\u001b[0m\u001b[0;34m\u001b[0m\u001b[0;34m\u001b[0m\u001b[0m\n\u001b[0;32m--> 302\u001b[0;31m                 \u001b[0mwaiter\u001b[0m\u001b[0;34m.\u001b[0m\u001b[0macquire\u001b[0m\u001b[0;34m(\u001b[0m\u001b[0;34m)\u001b[0m\u001b[0;34m\u001b[0m\u001b[0;34m\u001b[0m\u001b[0m\n\u001b[0m\u001b[1;32m    303\u001b[0m                 \u001b[0mgotit\u001b[0m \u001b[0;34m=\u001b[0m \u001b[0;32mTrue\u001b[0m\u001b[0;34m\u001b[0m\u001b[0;34m\u001b[0m\u001b[0m\n\u001b[1;32m    304\u001b[0m             \u001b[0;32melse\u001b[0m\u001b[0;34m:\u001b[0m\u001b[0;34m\u001b[0m\u001b[0;34m\u001b[0m\u001b[0m\n",
            "\u001b[0;31mKeyboardInterrupt\u001b[0m: "
          ]
        }
      ],
      "source": [
        "grid_search_gb.fit(X_train,y_train)"
      ],
      "id": "-XNxPzpJgBYk"
    },
    {
      "cell_type": "code",
      "execution_count": 77,
      "metadata": {
        "colab": {
          "base_uri": "https://localhost:8080/"
        },
        "id": "YiMC_StMiGYP",
        "outputId": "8dd7e38d-770d-47ad-e1f8-c969cc7e887c"
      },
      "outputs": [
        {
          "output_type": "execute_result",
          "data": {
            "text/plain": [
              "dict_keys(['cv', 'error_score', 'estimator__ccp_alpha', 'estimator__criterion', 'estimator__init', 'estimator__learning_rate', 'estimator__loss', 'estimator__max_depth', 'estimator__max_features', 'estimator__max_leaf_nodes', 'estimator__min_impurity_decrease', 'estimator__min_samples_leaf', 'estimator__min_samples_split', 'estimator__min_weight_fraction_leaf', 'estimator__n_estimators', 'estimator__n_iter_no_change', 'estimator__random_state', 'estimator__subsample', 'estimator__tol', 'estimator__validation_fraction', 'estimator__verbose', 'estimator__warm_start', 'estimator', 'n_jobs', 'param_grid', 'pre_dispatch', 'refit', 'return_train_score', 'scoring', 'verbose'])"
            ]
          },
          "metadata": {},
          "execution_count": 77
        }
      ],
      "source": [
        "grid_search_gb.get_params().keys()"
      ],
      "id": "YiMC_StMiGYP"
    },
    {
      "cell_type": "markdown",
      "source": [
        "XG Boost"
      ],
      "metadata": {
        "id": "-y39Ohg_rGPu"
      },
      "id": "-y39Ohg_rGPu"
    },
    {
      "cell_type": "code",
      "execution_count": 20,
      "metadata": {
        "id": "3RDK3Tk2cLih"
      },
      "outputs": [],
      "source": [
        "# SkLearn doesnot have XgBoost Library\n",
        "import xgboost"
      ],
      "id": "3RDK3Tk2cLih"
    },
    {
      "cell_type": "code",
      "execution_count": 24,
      "metadata": {
        "id": "bGtrdmK5cPCk"
      },
      "outputs": [],
      "source": [
        "model_xgb=xgboost.XGBClassifier()\n",
        "model_xgb.fit(X_train,y_train)\n",
        "y_pred_xgb=model_xgb.predict(X_test)"
      ],
      "id": "bGtrdmK5cPCk"
    },
    {
      "cell_type": "code",
      "execution_count": 25,
      "metadata": {
        "colab": {
          "base_uri": "https://localhost:8080/",
          "height": 172
        },
        "id": "c_SetKcQdevO",
        "outputId": "7e36949a-378c-4f08-bb6a-9b98f48d0f7f"
      },
      "outputs": [
        {
          "output_type": "error",
          "ename": "NameError",
          "evalue": "ignored",
          "traceback": [
            "\u001b[0;31m---------------------------------------------------------------------------\u001b[0m",
            "\u001b[0;31mNameError\u001b[0m                                 Traceback (most recent call last)",
            "\u001b[0;32m<ipython-input-25-796c0cb3451a>\u001b[0m in \u001b[0;36m<module>\u001b[0;34m\u001b[0m\n\u001b[0;32m----> 1\u001b[0;31m \u001b[0maccuracy_score\u001b[0m\u001b[0;34m(\u001b[0m\u001b[0my_test\u001b[0m\u001b[0;34m,\u001b[0m\u001b[0my_pred_xgb\u001b[0m\u001b[0;34m)\u001b[0m\u001b[0;34m\u001b[0m\u001b[0;34m\u001b[0m\u001b[0m\n\u001b[0m",
            "\u001b[0;31mNameError\u001b[0m: name 'accuracy_score' is not defined"
          ]
        }
      ],
      "source": [
        "accuracy_score(y_test,y_pred_xgb)"
      ],
      "id": "c_SetKcQdevO"
    },
    {
      "cell_type": "code",
      "source": [
        "! pip install optuna"
      ],
      "metadata": {
        "id": "D9TwmYHRsz2d"
      },
      "id": "D9TwmYHRsz2d",
      "execution_count": null,
      "outputs": []
    },
    {
      "cell_type": "code",
      "source": [
        "import optuna"
      ],
      "metadata": {
        "id": "9w1iC4_7s8TX"
      },
      "id": "9w1iC4_7s8TX",
      "execution_count": 42,
      "outputs": []
    },
    {
      "cell_type": "code",
      "execution_count": 7,
      "metadata": {
        "id": "pYCa28ZPesMP"
      },
      "outputs": [],
      "source": [
        "X=df.drop(\"quality\",axis=1)\n",
        "y=df['quality']"
      ],
      "id": "pYCa28ZPesMP"
    },
    {
      "cell_type": "code",
      "source": [
        "def objective_classification(trial,data=X,target=y) :\n",
        "    train_x , test_x , train_y , test_y= train_test_split(data , target , test_size = .20 ,random_state=10)\n",
        "    \n",
        "    param  = {\n",
        "        'tree_method' :'gpu_hist',\n",
        "        'verbosity' : 3,\n",
        "        'objective' : \"binary:logistics\" , \n",
        "        'booster' : trial.suggest_categorical('booster' , ['dart' , 'gbtree','gblinear']),\n",
        "        'lambda' : trial.suggest_float('lambda' , 1e-4 , 1),\n",
        "        'alpha' :trial.suggest_float('alpha' , 1e-4 , 1),\n",
        "        'subsample' : trial.suggest_float('subsample' , .1,.5),\n",
        "        'colsample_bytree' : trial.suggest_float('colsample_bytree' , .1 ,.5) \n",
        "    }\n",
        "   \n",
        "    if param['booster'] in ['gbtree' , 'dart']:\n",
        "        param['gamma'] :trial.suggest_float('gamma' , 1e-3 , 4 )\n",
        "        param['eta'] : trial.suggest_float('eta' , .001 ,5 )\n",
        "        \n",
        "    xgb_classification = xgboost.XGBClassifier(**param)\n",
        "    xgb_classification.fit(train_x , train_y,eval_set  = [(test_x, test_y)])\n",
        "    pred = xgb_classification.predict(test_x)\n",
        "    accuracy  = xgb_classification.score(test_x , test_y)\n",
        "\n",
        "    return accuracy"
      ],
      "metadata": {
        "id": "oNTPSZ5frTgg"
      },
      "id": "oNTPSZ5frTgg",
      "execution_count": 36,
      "outputs": []
    },
    {
      "cell_type": "code",
      "source": [
        "xgb_classification_oputuna = optuna.create_study() # direction='minimize)"
      ],
      "metadata": {
        "colab": {
          "base_uri": "https://localhost:8080/"
        },
        "id": "DIuvU4gjrYL8",
        "outputId": "9bd8f89a-406c-4675-8233-9ce18f3e741f"
      },
      "id": "DIuvU4gjrYL8",
      "execution_count": 16,
      "outputs": [
        {
          "output_type": "stream",
          "name": "stderr",
          "text": [
            "\u001b[32m[I 2022-12-08 18:22:57,971]\u001b[0m A new study created in memory with name: no-name-697a05fb-260f-4f06-b653-1197a8a406fa\u001b[0m\n"
          ]
        }
      ]
    },
    {
      "cell_type": "code",
      "source": [
        "xgb_classification_oputuna.optimize(objective_classification , n_trials = 10 )"
      ],
      "metadata": {
        "id": "jo8ejTEI-c_W"
      },
      "id": "jo8ejTEI-c_W",
      "execution_count": null,
      "outputs": []
    },
    {
      "cell_type": "code",
      "source": [
        "xgb_classification_oputuna.best_trial"
      ],
      "metadata": {
        "colab": {
          "base_uri": "https://localhost:8080/"
        },
        "id": "hLFo_UGJshvQ",
        "outputId": "9dfde2a4-24ee-4414-cb60-f28079360f9f"
      },
      "id": "hLFo_UGJshvQ",
      "execution_count": 31,
      "outputs": [
        {
          "output_type": "execute_result",
          "data": {
            "text/plain": [
              "FrozenTrial(number=2, values=[0.471875], datetime_start=datetime.datetime(2022, 12, 8, 18, 28, 14, 826161), datetime_complete=datetime.datetime(2022, 12, 8, 18, 28, 15, 254046), params={'booster': 'gblinear', 'lambda': 0.7498473134321364, 'alpha': 0.7661506589162442, 'subsample': 0.34321876190793654, 'colsample_bytree': 0.11677970774510978}, distributions={'booster': CategoricalDistribution(choices=('dart', 'gbtree', 'gblinear')), 'lambda': FloatDistribution(high=1.0, log=False, low=0.0001, step=None), 'alpha': FloatDistribution(high=1.0, log=False, low=0.0001, step=None), 'subsample': FloatDistribution(high=0.5, log=False, low=0.1, step=None), 'colsample_bytree': FloatDistribution(high=0.5, log=False, low=0.1, step=None)}, user_attrs={}, system_attrs={}, intermediate_values={}, trial_id=2, state=TrialState.COMPLETE, value=None)"
            ]
          },
          "metadata": {},
          "execution_count": 31
        }
      ]
    },
    {
      "cell_type": "code",
      "source": [
        "param=xgb_classification_oputuna.best_trial.params"
      ],
      "metadata": {
        "id": "RQ2dtoOctgA5"
      },
      "id": "RQ2dtoOctgA5",
      "execution_count": 32,
      "outputs": []
    },
    {
      "cell_type": "code",
      "source": [
        "param"
      ],
      "metadata": {
        "colab": {
          "base_uri": "https://localhost:8080/"
        },
        "id": "CQVI1eZrAmFJ",
        "outputId": "f97aa0d6-ba42-420a-8cc3-f473701bd621"
      },
      "id": "CQVI1eZrAmFJ",
      "execution_count": 38,
      "outputs": [
        {
          "output_type": "execute_result",
          "data": {
            "text/plain": [
              "{'booster': 'gblinear',\n",
              " 'lambda': 0.7498473134321364,\n",
              " 'alpha': 0.7661506589162442,\n",
              " 'subsample': 0.34321876190793654,\n",
              " 'colsample_bytree': 0.11677970774510978}"
            ]
          },
          "metadata": {},
          "execution_count": 38
        }
      ]
    },
    {
      "cell_type": "code",
      "source": [
        "from sklearn.model_selection import train_test_split\n",
        "X_train,X_test,y_train,y_test=train_test_split(X,y,test_size=0.33,random_state=10)"
      ],
      "metadata": {
        "id": "ectw1EeNB2is"
      },
      "id": "ectw1EeNB2is",
      "execution_count": null,
      "outputs": []
    },
    {
      "cell_type": "code",
      "source": [
        "xgb_final_class=xgboost.XGBClassifier(**param)\n",
        "xgb_final_class.fit(X_train,y_train)"
      ],
      "metadata": {
        "colab": {
          "base_uri": "https://localhost:8080/"
        },
        "id": "e1zgCfjxtpZ5",
        "outputId": "dadd22a9-91c6-4a78-df58-1ff3b1927bff"
      },
      "id": "e1zgCfjxtpZ5",
      "execution_count": 39,
      "outputs": [
        {
          "output_type": "execute_result",
          "data": {
            "text/plain": [
              "XGBClassifier(alpha=0.7661506589162442, booster='gblinear',\n",
              "              colsample_bytree=0.11677970774510978, lambda=0.7498473134321364,\n",
              "              objective='multi:softprob', subsample=0.34321876190793654)"
            ]
          },
          "metadata": {},
          "execution_count": 39
        }
      ]
    },
    {
      "cell_type": "code",
      "source": [
        "y_pred_xgb=xgb_final_class.predict(X_test)"
      ],
      "metadata": {
        "id": "KKtMawWgt6xi"
      },
      "id": "KKtMawWgt6xi",
      "execution_count": 40,
      "outputs": []
    },
    {
      "cell_type": "code",
      "source": [
        "from sklearn.metrics import accuracy_score\n",
        "accuracy_score(y_test,y_pred_xgb)"
      ],
      "metadata": {
        "colab": {
          "base_uri": "https://localhost:8080/"
        },
        "id": "7GL9TgJ3A-b7",
        "outputId": "fdf6acd9-e16b-4bb4-ff66-bbdc88ba73ef"
      },
      "id": "7GL9TgJ3A-b7",
      "execution_count": 43,
      "outputs": [
        {
          "output_type": "execute_result",
          "data": {
            "text/plain": [
              "0.4810606060606061"
            ]
          },
          "metadata": {},
          "execution_count": 43
        }
      ]
    },
    {
      "cell_type": "code",
      "source": [],
      "metadata": {
        "id": "NRLeFfC8BD08"
      },
      "id": "NRLeFfC8BD08",
      "execution_count": null,
      "outputs": []
    }
  ],
  "metadata": {
    "accelerator": "GPU",
    "colab": {
      "provenance": [],
      "include_colab_link": true
    },
    "gpuClass": "standard",
    "kernelspec": {
      "display_name": "Python 3 (ipykernel)",
      "language": "python",
      "name": "python3"
    },
    "language_info": {
      "codemirror_mode": {
        "name": "ipython",
        "version": 3
      },
      "file_extension": ".py",
      "mimetype": "text/x-python",
      "name": "python",
      "nbconvert_exporter": "python",
      "pygments_lexer": "ipython3",
      "version": "3.9.7"
    }
  },
  "nbformat": 4,
  "nbformat_minor": 5
}